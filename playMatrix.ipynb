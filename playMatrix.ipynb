{
 "cells": [
  {
   "cell_type": "code",
   "execution_count": 111,
   "id": "cef06653-790c-4d8e-b346-3e7c63d1412f",
   "metadata": {
    "tags": []
   },
   "outputs": [
    {
     "data": {
      "image/png": "[encoded data removed]",
      "text/plain": [
       "<Figure size 640x480 with 1 Axes>"
      ]
     },
     "metadata": {},
     "output_type": "display_data"
    }
   ],
   "source": [
    "import networkx as nx\n",
    "import matplotlib.pyplot as plt\n",
    "import numpy as np\n",
    "import random\n",
    "\n",
    "# Create a graph with 10 nodes\n",
    "G = nx.Graph()\n",
    "\n",
    "# Add nodes to the graph\n",
    "nodes = 4\n",
    "\n",
    "G.add_nodes_from(range(1, nodes))\n",
    "G.add_edge(1, 2, weight=2)\n",
    "G.add_edge(1, 3, weight=1)\n",
    "G.add_edge(3, 2, weight=2)\n",
    "G.add_edge(2, 4, weight=3)\n",
    "\n",
    "# Plot the graph with weights\n",
    "pos = nx.spring_layout(G)\n",
    "nx.draw(G, pos, with_labels=True, font_weight='bold', node_size=700, node_color='skyblue', font_size=8)\n",
    "\n",
    "# Add edge labels with weights\n",
    "labels = nx.get_edge_attributes(G, 'weight')\n",
    "nx.draw_networkx_edge_labels(G, pos, edge_labels=labels)\n",
    "\n",
    "plt.show()"
   ]
  },
  {
   "cell_type": "markdown",
   "id": "7a7ed713-9ebf-45a4-bf54-cb3495df313f",
   "metadata": {},
   "source": [
    "## 1. Weight matrix"
   ]
  },
  {
   "cell_type": "code",
   "execution_count": 112,
   "id": "07face10-be83-487f-9bf7-32b69efa7b2a",
   "metadata": {
    "tags": []
   },
   "outputs": [
    {
     "name": "stdout",
     "output_type": "stream",
     "text": [
      "[[0 2 1 0]\n",
      " [2 0 2 3]\n",
      " [1 2 0 0]\n",
      " [0 3 0 0]]\n"
     ]
    }
   ],
   "source": [
    "weight_array = nx.adjacency_matrix(G, weight='weight').todense()\n",
    "print(weight_array)"
   ]
  },
  {
   "cell_type": "code",
   "execution_count": 113,
   "id": "b561917a-fc3c-4dc0-af1a-b646d5695d7f",
   "metadata": {
    "tags": []
   },
   "outputs": [
    {
     "name": "stdout",
     "output_type": "stream",
     "text": [
      "Shortest distances from node 4: {4: 0, 2: 3, 1: 5, 3: 5}\n"
     ]
    }
   ],
   "source": [
    "start_node = 4\n",
    "shortest_paths = nx.shortest_path_length(G, source=start_node, weight='weight')\n",
    "print(f\"Shortest distances from node {start_node}: {shortest_paths}\")"
   ]
  },
  {
   "cell_type": "code",
   "execution_count": 114,
   "id": "0fc5b2fe-bc38-4000-a6fa-841cdc46b925",
   "metadata": {
    "tags": []
   },
   "outputs": [
    {
     "name": "stdout",
     "output_type": "stream",
     "text": [
      "[[0.   0.05 0.68 0.  ]\n",
      " [0.12 0.   0.19 0.67]\n",
      " [0.92 0.42 0.   0.  ]\n",
      " [0.   0.32 0.   0.  ]]\n"
     ]
    }
   ],
   "source": [
    "np.random.seed(41)\n",
    "nod_numbers = len(G.nodes())\n",
    "\n",
    "probabilities = np.round(np.random.rand(nod_numbers, nod_numbers), decimals=2)\n",
    "prob_array = np.where(weight_array > 0, probabilities, 0)\n",
    "print(prob_array)"
   ]
  },
  {
   "cell_type": "code",
   "execution_count": 115,
   "id": "598e8d3e-9881-4858-b8c5-4807bdee3d1f",
   "metadata": {
    "tags": []
   },
   "outputs": [
    {
     "name": "stdout",
     "output_type": "stream",
     "text": [
      "[[0. 0. 0. 0.]\n",
      " [0. 0. 0. 0.]\n",
      " [0. 0. 0. 0.]\n",
      " [0. 0. 0. 0.]]\n"
     ]
    }
   ],
   "source": [
    "def infection_matrix(net):\n",
    "    \n",
    "    num_nodes = len(net.nodes())\n",
    "    infection_array = np.zeros((num_nodes, num_nodes), dtype=float)\n",
    "                \n",
    "    return infection_array\n",
    "\n",
    "infect_array = infection_matrix(G)\n",
    "print(infect_array)"
   ]
  },
  {
   "cell_type": "code",
   "execution_count": 119,
   "id": "0a6e2945-ead4-47b4-81b5-f2e56f827b4c",
   "metadata": {
    "tags": []
   },
   "outputs": [],
   "source": [
    "def update_time(times_matrix, seed_node):\n",
    "    \n",
    "    values = 0\n",
    "    track = np.array([seed_node - 1])\n",
    "    \n",
    "    # What was the min value of the arrange greater than 0 (it-self)--> faster transmission\n",
    "    indeces = np.where(times_matrix[(seed_node - 1), :] >= 1)\n",
    "    values = times_matrix[(seed_node - 1), indeces]\n",
    "\n",
    "    # Check if any new number is not in the existing array\n",
    "    new_numbers = np.setdiff1d(indeces[0], track)\n",
    "    track = np.concatenate((track, new_numbers))\n",
    "\n",
    "    # Update the infection time\n",
    "    for v, k in zip(values[0], track[1:]):\n",
    "        \n",
    "        update = times_matrix[k, :]\n",
    "        update[update > 0] += v\n",
    "\n",
    "        # Add the update\n",
    "        times_matrix[k, :] = update\n",
    "\n",
    "        # Update indeces and values for the next iteration\n",
    "        indeces = np.where(times_matrix[k, :] >= 1)\n",
    "        values = times_matrix[k, indeces]\n",
    "\n",
    "        # Check if any new number is not in the existing array THE NODE == INDEX\n",
    "        new_numbers = np.setdiff1d(indeces[0], track)\n",
    "        #print(\"new_numbers ROW\", new_numbers)\n",
    "\n",
    "        if new_numbers.size > 0:\n",
    "            v = times_matrix[k, new_numbers]\n",
    "\n",
    "            update = times_matrix[new_numbers, :]\n",
    "            update[update > 0] += v[0]\n",
    "            # Add the update\n",
    "            times_matrix[new_numbers, :] = update\n",
    "\n",
    "            # Concatenate values and times_matrix[k, new_numbers]\n",
    "            track = np.concatenate((track, new_numbers))\n",
    "\n",
    "    return track  \n",
    "\n",
    "def infection(f, track, prob_array, infect_array):\n",
    "    p = f\n",
    "    infection_row = np.where(prob_array[track[0], :] >= p, 1, 0)\n",
    "    infect_array[track[0],:] = infection_row\n",
    "\n",
    "    for i in infection_row[1:]: # 1, 0, 0, 0\n",
    "        if i == 1:\n",
    "            for j in track[1:]: # ..., 1, 1\n",
    "                infect_row = np.where(prob_array[j, :] >= p, 1, 0)\n",
    "                infect_array[j,:] = infect_row\n",
    "\n",
    "                cols = np.where(infect_array[j,:] == 1)\n",
    "                \n",
    "                # Check if any new number is not in the existing array\n",
    "                new_numbers = np.setdiff1d(cols, track)\n",
    "\n",
    "                # Append the new numbers to the existing array\n",
    "                track = np.append(track, new_numbers)\n",
    "        else:\n",
    "            pass\n",
    "\n",
    "    return infect_array     \n",
    "\n",
    "\n",
    "def update_time_prob(times_matrix, infection_matrix, seed_node):\n",
    "    \n",
    "    times_matrix = times_matrix * infection_matrix\n",
    "    \n",
    "    values = 0\n",
    "    track = np.array([seed_node - 1])\n",
    "    #print(\"Initial TRACK:\", track)\n",
    "\n",
    "    # What was the min value of the arrange greater than 0 (it-self)--> faster transmission\n",
    "    indeces = np.where(times_matrix[(seed_node - 1), :] >= 1)\n",
    "    values = times_matrix[(seed_node - 1), indeces]\n",
    "\n",
    "    # Check if any new number is not in the existing array\n",
    "    new_numbers = np.setdiff1d(indeces[0], track)\n",
    "    track = np.concatenate((track, new_numbers))\n",
    "\n",
    "    #print(\"GO INSIDE\")\n",
    "    # Update the infection time\n",
    "    for v, k in zip(values[0], track[1:]):\n",
    "        \n",
    "        update = times_matrix[k, :]\n",
    "        update[update > 0] += v\n",
    "\n",
    "        # Add the update\n",
    "        times_matrix[k, :] = update\n",
    "\n",
    "        # Update indeces and values for the next iteration\n",
    "        indeces = np.where(times_matrix[k, :] >= 1)\n",
    "        values = times_matrix[k, indeces]\n",
    "\n",
    "        # Check if any new number is not in the existing array THE NODE == INDEX\n",
    "        new_numbers = np.setdiff1d(indeces[0], track)\n",
    "        #print(\"new_numbers ROW\", new_numbers)\n",
    "\n",
    "        if new_numbers.size > 0:\n",
    "            print(\"value \", times_matrix[k, new_numbers])  # aca el Value\n",
    "            v = times_matrix[k, new_numbers]\n",
    "\n",
    "            update = times_matrix[new_numbers, :]\n",
    "            update[update > 0] += v[0]\n",
    "            # Add the update\n",
    "            times_matrix[new_numbers, :] = update\n",
    "\n",
    "            # Concatenate values and times_matrix[k, new_numbers]\n",
    "            track = np.concatenate((track, new_numbers))\n",
    "            \n",
    "    accumulated_sums = {}\n",
    "\n",
    "    # Initialize accumulated sum variable\n",
    "    accumulated_sum = 0\n",
    "\n",
    "    # Iterate through the shortest path lengths\n",
    "    for node, distance in shortest_paths.items():\n",
    "        # Add the distance to the accumulated sum\n",
    "        accumulated_sum += distance\n",
    "\n",
    "        # Store the accumulated sum in the dictionary\n",
    "        accumulated_sums[node] = accumulated_sum\n",
    "        \n",
    "        \n",
    "    return times_matrix, track, accumulated_sums    "
   ]
  },
  {
   "cell_type": "code",
   "execution_count": 120,
   "id": "a98269f8-768e-48e9-ac4e-a55cafa79331",
   "metadata": {
    "tags": []
   },
   "outputs": [
    {
     "name": "stdout",
     "output_type": "stream",
     "text": [
      "Original times_matrix:\n",
      "[[0 2 1 0]\n",
      " [2 0 2 3]\n",
      " [1 2 0 0]\n",
      " [0 3 0 0]]\n",
      "<function infection_matrix at 0x7f6ae7b69ab0>\n"
     ]
    }
   ],
   "source": [
    "seed_node = 4\n",
    "times_matrix = nx.adjacency_matrix(G, weight='weight').todense()\n",
    "print(\"Original times_matrix:\")\n",
    "print(times_matrix)\n",
    "print(infection_matrix)"
   ]
  },
  {
   "cell_type": "code",
   "execution_count": 121,
   "id": "39cb4410-f9bf-4411-9865-74cccbee55e2",
   "metadata": {
    "tags": []
   },
   "outputs": [
    {
     "name": "stdout",
     "output_type": "stream",
     "text": [
      "\n",
      "Updated track:\n",
      "[3 1 0 2]\n"
     ]
    }
   ],
   "source": [
    "track_nodes = update_time(times_matrix, seed_node)\n",
    "\n",
    "print(\"\\nUpdated track:\")\n",
    "print(track_nodes)"
   ]
  },
  {
   "cell_type": "code",
   "execution_count": 122,
   "id": "63064798-c0b7-411d-9158-2663b552725b",
   "metadata": {
    "tags": []
   },
   "outputs": [
    {
     "name": "stdout",
     "output_type": "stream",
     "text": [
      "[[0. 0. 1. 0.]\n",
      " [1. 0. 1. 1.]\n",
      " [1. 1. 0. 0.]\n",
      " [0. 1. 0. 0.]]\n"
     ]
    }
   ],
   "source": [
    "f = 0.1\n",
    "infection_array = infection(f, track_nodes, prob_array, infect_array)\n",
    "print(infection_array)"
   ]
  },
  {
   "cell_type": "code",
   "execution_count": 125,
   "id": "05226d0c-9d2b-457a-b50a-6073740b5d63",
   "metadata": {
    "tags": []
   },
   "outputs": [
    {
     "name": "stdout",
     "output_type": "stream",
     "text": [
      "value  [8. 8.]\n"
     ]
    }
   ],
   "source": [
    "times_array, track_array, accumulated_times  = update_time_prob(times_matrix, infection_array, seed_node)"
   ]
  },
  {
   "cell_type": "code",
   "execution_count": 126,
   "id": "ddb04910-ef34-49ff-a412-608f7dc38104",
   "metadata": {
    "tags": []
   },
   "outputs": [
    {
     "data": {
      "text/plain": [
       "array([[ 0.,  0., 14.,  0.],\n",
       "       [ 8.,  0.,  8.,  9.],\n",
       "       [14., 15.,  0.,  0.],\n",
       "       [ 0.,  3.,  0.,  0.]])"
      ]
     },
     "execution_count": 126,
     "metadata": {},
     "output_type": "execute_result"
    }
   ],
   "source": [
    "times_array"
   ]
  },
  {
   "cell_type": "code",
   "execution_count": 127,
   "id": "1fbc4444-065b-4ac3-b1c8-b9f6b01b0dda",
   "metadata": {
    "tags": []
   },
   "outputs": [
    {
     "data": {
      "text/plain": [
       "array([3, 1, 0, 2])"
      ]
     },
     "execution_count": 127,
     "metadata": {},
     "output_type": "execute_result"
    }
   ],
   "source": [
    "track_array"
   ]
  },
  {
   "cell_type": "code",
   "execution_count": 128,
   "id": "224d910e-6faf-4f28-bc62-64c50b7fb7dc",
   "metadata": {
    "tags": []
   },
   "outputs": [
    {
     "data": {
      "text/plain": [
       "{4: 0, 2: 3, 1: 8, 3: 13}"
      ]
     },
     "execution_count": 128,
     "metadata": {},
     "output_type": "execute_result"
    }
   ],
   "source": [
    "accumulated_times"
   ]
  },
  {
   "cell_type": "code",
   "execution_count": 129,
   "id": "06c38205-a3e9-4f42-9944-78c899d0ded1",
   "metadata": {
    "tags": []
   },
   "outputs": [
    {
     "data": {
      "text/plain": [
       "array([3, 1, 0, 2])"
      ]
     },
     "execution_count": 129,
     "metadata": {},
     "output_type": "execute_result"
    }
   ],
   "source": [
    "track_array"
   ]
  },
  {
   "cell_type": "code",
   "execution_count": 130,
   "id": "b677a571-65f1-43b4-a2be-147cb997f0ab",
   "metadata": {
    "tags": []
   },
   "outputs": [
    {
     "data": {
      "image/png": "[encoded data removed]",
      "text/plain": [
       "<Figure size 640x480 with 1 Axes>"
      ]
     },
     "metadata": {},
     "output_type": "display_data"
    }
   ],
   "source": [
    "# Create a graph with 10 nodes\n",
    "G = nx.Graph()\n",
    "\n",
    "# Add nodes to the graph\n",
    "nodes = 8\n",
    "\n",
    "G.add_nodes_from(range(1, nodes))\n",
    "G.add_edge(2, 4, weight=3)\n",
    "G.add_edge(4, 3, weight=2)\n",
    "G.add_edge(3, 7, weight=6)\n",
    "G.add_edge(7, 1, weight=6)\n",
    "G.add_edge(7, 4, weight=2)\n",
    "G.add_edge(7, 5, weight=4)\n",
    "G.add_edge(1, 6, weight=2)\n",
    "G.add_edge(5, 1, weight=4)\n",
    "G.add_edge(4, 1, weight=3)\n",
    "\n",
    "# Plot the graph with weights\n",
    "pos = nx.spring_layout(G)\n",
    "nx.draw(G, pos, with_labels=True, font_weight='bold', node_size=700, node_color='skyblue', font_size=8)\n",
    "\n",
    "# Add edge labels with weights\n",
    "labels = nx.get_edge_attributes(G, 'weight')\n",
    "nx.draw_networkx_edge_labels(G, pos, edge_labels=labels)\n",
    "\n",
    "plt.show()"
   ]
  },
  {
   "cell_type": "code",
   "execution_count": 173,
   "id": "096df64e-ce53-4bce-9fa9-9cae8e53c397",
   "metadata": {
    "tags": []
   },
   "outputs": [],
   "source": [
    "weight_array = nx.adjacency_matrix(G, weight='weight').todense()\n"
   ]
  },
  {
   "cell_type": "code",
   "execution_count": 174,
   "id": "cf6fa6c8-eaa7-4d35-bc2d-0656facf88ac",
   "metadata": {
    "tags": []
   },
   "outputs": [],
   "source": [
    "np.random.seed(41)\n",
    "nod_numbers = len(G.nodes())\n",
    "\n",
    "probabilities = np.round(np.random.rand(nod_numbers, nod_numbers), decimals=2)\n",
    "prob_array = np.where(weight_array > 0, probabilities, 0)\n"
   ]
  },
  {
   "cell_type": "code",
   "execution_count": 175,
   "id": "9ce8e962-bd8d-4815-80ba-e163e541124f",
   "metadata": {
    "tags": []
   },
   "outputs": [],
   "source": [
    "def infection_matrix(net):\n",
    "    \n",
    "    num_nodes = len(net.nodes())\n",
    "    infection_array = np.zeros((num_nodes, num_nodes), dtype=float)\n",
    "                \n",
    "    return infection_array\n",
    "\n",
    "infect_array = infection_matrix(G)\n"
   ]
  },
  {
   "cell_type": "code",
   "execution_count": 176,
   "id": "69d0efdb-280b-487b-8764-b525c791fb9a",
   "metadata": {
    "tags": []
   },
   "outputs": [],
   "source": [
    "seed_node = 4\n",
    "times_matrix = nx.adjacency_matrix(G, weight='weight').todense()\n"
   ]
  },
  {
   "cell_type": "code",
   "execution_count": 178,
   "id": "8513c1c7-8b94-4932-8b2e-280ee1d57603",
   "metadata": {
    "tags": []
   },
   "outputs": [
    {
     "name": "stdout",
     "output_type": "stream",
     "text": [
      "\n",
      "Updated track:\n"
     ]
    }
   ],
   "source": [
    "track_nodes = update_time(times_matrix, seed_node)\n",
    "print(\"\\nUpdated track:\")\n"
   ]
  },
  {
   "cell_type": "code",
   "execution_count": 179,
   "id": "7fdd9a9a-359b-46d7-bac8-81f491efb83e",
   "metadata": {
    "tags": []
   },
   "outputs": [],
   "source": [
    "f = 0.45\n",
    "infection_array = infection(f, track_nodes, prob_array, infect_array)\n",
    "#print(infection_array)"
   ]
  },
  {
   "cell_type": "code",
   "execution_count": 160,
   "id": "fb1d7f0f-0ab1-4881-91b7-008b6c69675a",
   "metadata": {
    "tags": []
   },
   "outputs": [
    {
     "name": "stdout",
     "output_type": "stream",
     "text": [
      "value  [11.]\n",
      "value  [10.]\n"
     ]
    }
   ],
   "source": [
    "times_array, track_array, accumulated_times  = update_time_prob(times_matrix, infection_array, seed_node)"
   ]
  },
  {
   "cell_type": "code",
   "execution_count": 161,
   "id": "fec6a745-0004-4148-94c6-5c99b1c28335",
   "metadata": {
    "tags": []
   },
   "outputs": [
    {
     "data": {
      "text/plain": [
       "array([3, 0, 6, 5, 4])"
      ]
     },
     "execution_count": 161,
     "metadata": {},
     "output_type": "execute_result"
    }
   ],
   "source": [
    "track_array"
   ]
  },
  {
   "cell_type": "code",
   "execution_count": 164,
   "id": "8116494f-cdad-439f-b49c-f87a93473109",
   "metadata": {
    "tags": []
   },
   "outputs": [],
   "source": [
    "values_array2 = np.array(list(accumulated_times.values()))"
   ]
  },
  {
   "cell_type": "code",
   "execution_count": 172,
   "id": "f8c11e46-104d-44f3-97f7-cdecf8999eed",
   "metadata": {
    "tags": []
   },
   "outputs": [
    {
     "data": {
      "text/plain": [
       "array(['3', '0', '6', '5', '4'], dtype='<U1')"
      ]
     },
     "execution_count": 172,
     "metadata": {},
     "output_type": "execute_result"
    }
   ],
   "source": [
    "track_array"
   ]
  },
  {
   "cell_type": "code",
   "execution_count": 169,
   "id": "1aa4bdf3-b4be-4909-8edd-46a60b24caa3",
   "metadata": {
    "tags": []
   },
   "outputs": [
    {
     "ename": "ValueError",
     "evalue": "x and y must have same first dimension, but have shapes (5,) and (7,)",
     "output_type": "error",
     "traceback": [
      "\u001b[0;31m---------------------------------------------------------------------------\u001b[0m",
      "\u001b[0;31mValueError\u001b[0m                                Traceback (most recent call last)",
      "Cell \u001b[0;32mIn[169], line 7\u001b[0m\n\u001b[1;32m      3\u001b[0m track_array2 \u001b[38;5;241m=\u001b[39m text_array \u001b[38;5;241m=\u001b[39m np\u001b[38;5;241m.\u001b[39mvectorize(\u001b[38;5;28mstr\u001b[39m)(track_array)\n\u001b[1;32m      5\u001b[0m \u001b[38;5;66;03m# Plot the line with characters\u001b[39;00m\n\u001b[1;32m      6\u001b[0m \u001b[38;5;66;03m#plt.plot(track_array, values_array, marker='o', linestyle='-')\u001b[39;00m\n\u001b[0;32m----> 7\u001b[0m \u001b[43mplt\u001b[49m\u001b[38;5;241;43m.\u001b[39;49m\u001b[43mplot\u001b[49m\u001b[43m(\u001b[49m\u001b[43mtrack_array2\u001b[49m\u001b[43m,\u001b[49m\u001b[43m \u001b[49m\u001b[43mvalues_array2\u001b[49m\u001b[43m,\u001b[49m\u001b[43m \u001b[49m\u001b[43mmarker\u001b[49m\u001b[38;5;241;43m=\u001b[39;49m\u001b[38;5;124;43m'\u001b[39;49m\u001b[38;5;124;43mo\u001b[39;49m\u001b[38;5;124;43m'\u001b[39;49m\u001b[43m,\u001b[49m\u001b[43m \u001b[49m\u001b[43mlinestyle\u001b[49m\u001b[38;5;241;43m=\u001b[39;49m\u001b[38;5;124;43m'\u001b[39;49m\u001b[38;5;124;43m-\u001b[39;49m\u001b[38;5;124;43m'\u001b[39;49m\u001b[43m)\u001b[49m\n\u001b[1;32m      8\u001b[0m \u001b[38;5;66;03m# Add labels and title\u001b[39;00m\n\u001b[1;32m      9\u001b[0m plt\u001b[38;5;241m.\u001b[39mxlabel(\u001b[38;5;124m'\u001b[39m\u001b[38;5;124mNodes\u001b[39m\u001b[38;5;124m'\u001b[39m)\n",
      "File \u001b[0;32m/opt/software/lib/python3.10/site-packages/matplotlib/pyplot.py:2812\u001b[0m, in \u001b[0;36mplot\u001b[0;34m(scalex, scaley, data, *args, **kwargs)\u001b[0m\n\u001b[1;32m   2810\u001b[0m \u001b[38;5;129m@_copy_docstring_and_deprecators\u001b[39m(Axes\u001b[38;5;241m.\u001b[39mplot)\n\u001b[1;32m   2811\u001b[0m \u001b[38;5;28;01mdef\u001b[39;00m \u001b[38;5;21mplot\u001b[39m(\u001b[38;5;241m*\u001b[39margs, scalex\u001b[38;5;241m=\u001b[39m\u001b[38;5;28;01mTrue\u001b[39;00m, scaley\u001b[38;5;241m=\u001b[39m\u001b[38;5;28;01mTrue\u001b[39;00m, data\u001b[38;5;241m=\u001b[39m\u001b[38;5;28;01mNone\u001b[39;00m, \u001b[38;5;241m*\u001b[39m\u001b[38;5;241m*\u001b[39mkwargs):\n\u001b[0;32m-> 2812\u001b[0m     \u001b[38;5;28;01mreturn\u001b[39;00m \u001b[43mgca\u001b[49m\u001b[43m(\u001b[49m\u001b[43m)\u001b[49m\u001b[38;5;241;43m.\u001b[39;49m\u001b[43mplot\u001b[49m\u001b[43m(\u001b[49m\n\u001b[1;32m   2813\u001b[0m \u001b[43m        \u001b[49m\u001b[38;5;241;43m*\u001b[39;49m\u001b[43margs\u001b[49m\u001b[43m,\u001b[49m\u001b[43m \u001b[49m\u001b[43mscalex\u001b[49m\u001b[38;5;241;43m=\u001b[39;49m\u001b[43mscalex\u001b[49m\u001b[43m,\u001b[49m\u001b[43m \u001b[49m\u001b[43mscaley\u001b[49m\u001b[38;5;241;43m=\u001b[39;49m\u001b[43mscaley\u001b[49m\u001b[43m,\u001b[49m\n\u001b[1;32m   2814\u001b[0m \u001b[43m        \u001b[49m\u001b[38;5;241;43m*\u001b[39;49m\u001b[38;5;241;43m*\u001b[39;49m\u001b[43m(\u001b[49m\u001b[43m{\u001b[49m\u001b[38;5;124;43m\"\u001b[39;49m\u001b[38;5;124;43mdata\u001b[39;49m\u001b[38;5;124;43m\"\u001b[39;49m\u001b[43m:\u001b[49m\u001b[43m \u001b[49m\u001b[43mdata\u001b[49m\u001b[43m}\u001b[49m\u001b[43m \u001b[49m\u001b[38;5;28;43;01mif\u001b[39;49;00m\u001b[43m \u001b[49m\u001b[43mdata\u001b[49m\u001b[43m \u001b[49m\u001b[38;5;129;43;01mis\u001b[39;49;00m\u001b[43m \u001b[49m\u001b[38;5;129;43;01mnot\u001b[39;49;00m\u001b[43m \u001b[49m\u001b[38;5;28;43;01mNone\u001b[39;49;00m\u001b[43m \u001b[49m\u001b[38;5;28;43;01melse\u001b[39;49;00m\u001b[43m \u001b[49m\u001b[43m{\u001b[49m\u001b[43m}\u001b[49m\u001b[43m)\u001b[49m\u001b[43m,\u001b[49m\u001b[43m \u001b[49m\u001b[38;5;241;43m*\u001b[39;49m\u001b[38;5;241;43m*\u001b[39;49m\u001b[43mkwargs\u001b[49m\u001b[43m)\u001b[49m\n",
      "File \u001b[0;32m/opt/software/lib/python3.10/site-packages/matplotlib/axes/_axes.py:1688\u001b[0m, in \u001b[0;36mAxes.plot\u001b[0;34m(self, scalex, scaley, data, *args, **kwargs)\u001b[0m\n\u001b[1;32m   1445\u001b[0m \u001b[38;5;250m\u001b[39m\u001b[38;5;124;03m\"\"\"\u001b[39;00m\n\u001b[1;32m   1446\u001b[0m \u001b[38;5;124;03mPlot y versus x as lines and/or markers.\u001b[39;00m\n\u001b[1;32m   1447\u001b[0m \n\u001b[0;32m   (...)\u001b[0m\n\u001b[1;32m   1685\u001b[0m \u001b[38;5;124;03m(``'green'``) or hex strings (``'#008000'``).\u001b[39;00m\n\u001b[1;32m   1686\u001b[0m \u001b[38;5;124;03m\"\"\"\u001b[39;00m\n\u001b[1;32m   1687\u001b[0m kwargs \u001b[38;5;241m=\u001b[39m cbook\u001b[38;5;241m.\u001b[39mnormalize_kwargs(kwargs, mlines\u001b[38;5;241m.\u001b[39mLine2D)\n\u001b[0;32m-> 1688\u001b[0m lines \u001b[38;5;241m=\u001b[39m [\u001b[38;5;241m*\u001b[39m\u001b[38;5;28mself\u001b[39m\u001b[38;5;241m.\u001b[39m_get_lines(\u001b[38;5;241m*\u001b[39margs, data\u001b[38;5;241m=\u001b[39mdata, \u001b[38;5;241m*\u001b[39m\u001b[38;5;241m*\u001b[39mkwargs)]\n\u001b[1;32m   1689\u001b[0m \u001b[38;5;28;01mfor\u001b[39;00m line \u001b[38;5;129;01min\u001b[39;00m lines:\n\u001b[1;32m   1690\u001b[0m     \u001b[38;5;28mself\u001b[39m\u001b[38;5;241m.\u001b[39madd_line(line)\n",
      "File \u001b[0;32m/opt/software/lib/python3.10/site-packages/matplotlib/axes/_base.py:311\u001b[0m, in \u001b[0;36m_process_plot_var_args.__call__\u001b[0;34m(self, data, *args, **kwargs)\u001b[0m\n\u001b[1;32m    309\u001b[0m     this \u001b[38;5;241m+\u001b[39m\u001b[38;5;241m=\u001b[39m args[\u001b[38;5;241m0\u001b[39m],\n\u001b[1;32m    310\u001b[0m     args \u001b[38;5;241m=\u001b[39m args[\u001b[38;5;241m1\u001b[39m:]\n\u001b[0;32m--> 311\u001b[0m \u001b[38;5;28;01myield from\u001b[39;00m \u001b[38;5;28;43mself\u001b[39;49m\u001b[38;5;241;43m.\u001b[39;49m\u001b[43m_plot_args\u001b[49m\u001b[43m(\u001b[49m\n\u001b[1;32m    312\u001b[0m \u001b[43m    \u001b[49m\u001b[43mthis\u001b[49m\u001b[43m,\u001b[49m\u001b[43m \u001b[49m\u001b[43mkwargs\u001b[49m\u001b[43m,\u001b[49m\u001b[43m \u001b[49m\u001b[43mambiguous_fmt_datakey\u001b[49m\u001b[38;5;241;43m=\u001b[39;49m\u001b[43mambiguous_fmt_datakey\u001b[49m\u001b[43m)\u001b[49m\n",
      "File \u001b[0;32m/opt/software/lib/python3.10/site-packages/matplotlib/axes/_base.py:504\u001b[0m, in \u001b[0;36m_process_plot_var_args._plot_args\u001b[0;34m(self, tup, kwargs, return_kwargs, ambiguous_fmt_datakey)\u001b[0m\n\u001b[1;32m    501\u001b[0m     \u001b[38;5;28mself\u001b[39m\u001b[38;5;241m.\u001b[39maxes\u001b[38;5;241m.\u001b[39myaxis\u001b[38;5;241m.\u001b[39mupdate_units(y)\n\u001b[1;32m    503\u001b[0m \u001b[38;5;28;01mif\u001b[39;00m x\u001b[38;5;241m.\u001b[39mshape[\u001b[38;5;241m0\u001b[39m] \u001b[38;5;241m!=\u001b[39m y\u001b[38;5;241m.\u001b[39mshape[\u001b[38;5;241m0\u001b[39m]:\n\u001b[0;32m--> 504\u001b[0m     \u001b[38;5;28;01mraise\u001b[39;00m \u001b[38;5;167;01mValueError\u001b[39;00m(\u001b[38;5;124mf\u001b[39m\u001b[38;5;124m\"\u001b[39m\u001b[38;5;124mx and y must have same first dimension, but \u001b[39m\u001b[38;5;124m\"\u001b[39m\n\u001b[1;32m    505\u001b[0m                      \u001b[38;5;124mf\u001b[39m\u001b[38;5;124m\"\u001b[39m\u001b[38;5;124mhave shapes \u001b[39m\u001b[38;5;132;01m{\u001b[39;00mx\u001b[38;5;241m.\u001b[39mshape\u001b[38;5;132;01m}\u001b[39;00m\u001b[38;5;124m and \u001b[39m\u001b[38;5;132;01m{\u001b[39;00my\u001b[38;5;241m.\u001b[39mshape\u001b[38;5;132;01m}\u001b[39;00m\u001b[38;5;124m\"\u001b[39m)\n\u001b[1;32m    506\u001b[0m \u001b[38;5;28;01mif\u001b[39;00m x\u001b[38;5;241m.\u001b[39mndim \u001b[38;5;241m>\u001b[39m \u001b[38;5;241m2\u001b[39m \u001b[38;5;129;01mor\u001b[39;00m y\u001b[38;5;241m.\u001b[39mndim \u001b[38;5;241m>\u001b[39m \u001b[38;5;241m2\u001b[39m:\n\u001b[1;32m    507\u001b[0m     \u001b[38;5;28;01mraise\u001b[39;00m \u001b[38;5;167;01mValueError\u001b[39;00m(\u001b[38;5;124mf\u001b[39m\u001b[38;5;124m\"\u001b[39m\u001b[38;5;124mx and y can be no greater than 2D, but have \u001b[39m\u001b[38;5;124m\"\u001b[39m\n\u001b[1;32m    508\u001b[0m                      \u001b[38;5;124mf\u001b[39m\u001b[38;5;124m\"\u001b[39m\u001b[38;5;124mshapes \u001b[39m\u001b[38;5;132;01m{\u001b[39;00mx\u001b[38;5;241m.\u001b[39mshape\u001b[38;5;132;01m}\u001b[39;00m\u001b[38;5;124m and \u001b[39m\u001b[38;5;132;01m{\u001b[39;00my\u001b[38;5;241m.\u001b[39mshape\u001b[38;5;132;01m}\u001b[39;00m\u001b[38;5;124m\"\u001b[39m)\n",
      "\u001b[0;31mValueError\u001b[0m: x and y must have same first dimension, but have shapes (5,) and (7,)"
     ]
    },
    {
     "data": {
      "image/png": "[encoded data removed]",
      "text/plain": [
       "<Figure size 640x480 with 1 Axes>"
      ]
     },
     "metadata": {},
     "output_type": "display_data"
    }
   ],
   "source": [
    "# Your NumPy array\n",
    "track_array = text_array = np.vectorize(str)(track_array)\n",
    "track_array2 = text_array = np.vectorize(str)(track_array)\n",
    "\n",
    "# Plot the line with characters\n",
    "#plt.plot(track_array, values_array, marker='o', linestyle='-')\n",
    "plt.plot(track_array2, values_array2, marker='o', linestyle='-')\n",
    "# Add labels and title\n",
    "plt.xlabel('Nodes')\n",
    "plt.ylabel('Values (Mapped to Characters)')\n",
    "plt.title('Line Plot of Categorized Data')\n",
    "\n",
    "# Show the plot\n",
    "plt.show()\n"
   ]
  },
  {
   "cell_type": "code",
   "execution_count": 155,
   "id": "c89df49b-428d-405c-abe8-8bf36b4afba2",
   "metadata": {
    "tags": []
   },
   "outputs": [
    {
     "data": {
      "text/plain": [
       "array(['D', 'A', 'B', 'C', 'G', 'F', 'E'], dtype='<U1')"
      ]
     },
     "execution_count": 155,
     "metadata": {},
     "output_type": "execute_result"
    }
   ],
   "source": [
    "char_array"
   ]
  },
  {
   "cell_type": "code",
   "execution_count": null,
   "id": "dbf38fcf-cbee-42af-b929-a69df84f328b",
   "metadata": {},
   "outputs": [],
   "source": []
  }
 ],
 "metadata": {
  "kernelspec": {
   "display_name": "Python 3",
   "language": "python",
   "name": "python3"
  },
  "language_info": {
   "codemirror_mode": {
    "name": "ipython",
    "version": 3
   },
   "file_extension": ".py",
   "mimetype": "text/x-python",
   "name": "python",
   "nbconvert_exporter": "python",
   "pygments_lexer": "ipython3",
   "version": "3.10.8"
  }
 },
 "nbformat": 4,
 "nbformat_minor": 5
}
