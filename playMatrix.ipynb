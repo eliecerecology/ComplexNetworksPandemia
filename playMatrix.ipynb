{
 "cells": [
  {
   "cell_type": "code",
   "execution_count": 65,
   "id": "cef06653-790c-4d8e-b346-3e7c63d1412f",
   "metadata": {
    "tags": []
   },
   "outputs": [
    {
     "data": {
      "image/png": "[encoded data removed]",
      "text/plain": [
       "<Figure size 640x480 with 1 Axes>"
      ]
     },
     "metadata": {},
     "output_type": "display_data"
    }
   ],
   "source": [
    "import networkx as nx\n",
    "import matplotlib.pyplot as plt\n",
    "import numpy as np\n",
    "import random\n",
    "\n",
    "# Create a graph with 10 nodes\n",
    "G = nx.Graph()\n",
    "\n",
    "# Add nodes to the graph\n",
    "nodes = 4\n",
    "\n",
    "G.add_nodes_from(range(1, nodes))\n",
    "G.add_edge(1, 2, weight=2)\n",
    "G.add_edge(1, 3, weight=1)\n",
    "G.add_edge(3, 2, weight=2)\n",
    "G.add_edge(2, 4, weight=3)\n",
    "\n",
    "# Plot the graph with weights\n",
    "pos = nx.spring_layout(G)\n",
    "nx.draw(G, pos, with_labels=True, font_weight='bold', node_size=700, node_color='skyblue', font_size=8)\n",
    "\n",
    "# Add edge labels with weights\n",
    "labels = nx.get_edge_attributes(G, 'weight')\n",
    "nx.draw_networkx_edge_labels(G, pos, edge_labels=labels)\n",
    "\n",
    "plt.show()"
   ]
  },
  {
   "cell_type": "markdown",
   "id": "7a7ed713-9ebf-45a4-bf54-cb3495df313f",
   "metadata": {},
   "source": [
    "## 1. Weight matrix"
   ]
  },
  {
   "cell_type": "code",
   "execution_count": 95,
   "id": "07face10-be83-487f-9bf7-32b69efa7b2a",
   "metadata": {
    "tags": []
   },
   "outputs": [
    {
     "name": "stdout",
     "output_type": "stream",
     "text": [
      "[[0 2 1 0]\n",
      " [2 0 2 3]\n",
      " [1 2 0 0]\n",
      " [0 3 0 0]]\n"
     ]
    }
   ],
   "source": [
    "weight_array = nx.adjacency_matrix(G, weight='weight').todense()\n",
    "print(weight_array)"
   ]
  },
  {
   "cell_type": "code",
   "execution_count": 96,
   "id": "b561917a-fc3c-4dc0-af1a-b646d5695d7f",
   "metadata": {
    "tags": []
   },
   "outputs": [
    {
     "name": "stdout",
     "output_type": "stream",
     "text": [
      "Shortest distances from node 3: {3: 0, 1: 1, 2: 2, 4: 5}\n"
     ]
    }
   ],
   "source": [
    "start_node = 3\n",
    "shortest_paths = nx.shortest_path_length(G, source=start_node, weight='weight')\n",
    "print(f\"Shortest distances from node {start_node}: {shortest_paths}\")"
   ]
  },
  {
   "cell_type": "code",
   "execution_count": 97,
   "id": "be200ff4-b665-4d1b-b560-ef75d8f95654",
   "metadata": {
    "tags": []
   },
   "outputs": [
    {
     "data": {
      "text/plain": [
       "{3: 0, 1: 1, 2: 2, 4: 5}"
      ]
     },
     "execution_count": 97,
     "metadata": {},
     "output_type": "execute_result"
    }
   ],
   "source": [
    "shortest_paths"
   ]
  },
  {
   "cell_type": "code",
   "execution_count": 98,
   "id": "0fc5b2fe-bc38-4000-a6fa-841cdc46b925",
   "metadata": {
    "tags": []
   },
   "outputs": [
    {
     "name": "stdout",
     "output_type": "stream",
     "text": [
      "[[0.   0.05 0.68 0.  ]\n",
      " [0.12 0.   0.19 0.67]\n",
      " [0.92 0.42 0.   0.  ]\n",
      " [0.   0.32 0.   0.  ]]\n"
     ]
    }
   ],
   "source": [
    "np.random.seed(41)\n",
    "nod_numbers = len(G.nodes())\n",
    "\n",
    "probabilities = np.round(np.random.rand(nod_numbers, nod_numbers), decimals=2)\n",
    "prob_array = np.where(weight_array > 0, probabilities, 0)\n",
    "print(prob_array)"
   ]
  },
  {
   "cell_type": "code",
   "execution_count": 99,
   "id": "598e8d3e-9881-4858-b8c5-4807bdee3d1f",
   "metadata": {
    "tags": []
   },
   "outputs": [
    {
     "name": "stdout",
     "output_type": "stream",
     "text": [
      "[[0. 0. 0. 0.]\n",
      " [0. 0. 0. 0.]\n",
      " [0. 0. 0. 0.]\n",
      " [0. 0. 0. 0.]]\n"
     ]
    }
   ],
   "source": [
    "def infection_matrix(net):\n",
    "    \n",
    "    num_nodes = len(net.nodes())\n",
    "    infection_array = np.zeros((num_nodes, num_nodes), dtype=float)\n",
    "\n",
    "                \n",
    "    return infection_array\n",
    "\n",
    "infect_array = infection_matrix(G)\n",
    "print(infect_array)"
   ]
  },
  {
   "cell_type": "code",
   "execution_count": 100,
   "id": "84b0ad64-3da7-4550-bc75-4f3789c7edf3",
   "metadata": {
    "tags": []
   },
   "outputs": [
    {
     "data": {
      "text/plain": [
       "array([0, 1, 3])"
      ]
     },
     "execution_count": 100,
     "metadata": {},
     "output_type": "execute_result"
    }
   ],
   "source": [
    "node_idx = (np.array(list(shortest_paths.keys())) - 1)[-3:]\n",
    "node_idx"
   ]
  },
  {
   "cell_type": "code",
   "execution_count": 101,
   "id": "f3487ced-f56a-4680-8c43-8befbf23d9f5",
   "metadata": {
    "tags": []
   },
   "outputs": [],
   "source": [
    "def update_time(times_matrix, seed_node):\n",
    "    \n",
    "    values = 0\n",
    "    track = np.array([seed_node - 1])\n",
    "    \n",
    "    for _ in range(times_matrix.shape[0]):\n",
    "        try:\n",
    "            # What was the min value of the arrange greater than 0 (it-self)--> faster transmittion\n",
    "            min_value = np.min(times_matrix[(seed_node - 1), times_matrix[(seed_node - 1), :] > values])\n",
    "            print(\"min_values\", min_value)\n",
    "            values = min_value\n",
    "\n",
    "            # Index\n",
    "            # find the array of indeces in the array with minimum values Nodes\n",
    "            Nodes = np.where(times_matrix[(seed_node - 1), :] == min_value)[0]\n",
    "\n",
    "            ##########################\n",
    "            #Update the infection time\n",
    "            ##########################\n",
    "            update = times_matrix[Nodes, :] \n",
    "            update[update > 0] += min_value\n",
    "            #add the update\n",
    "            times_matrix[Nodes, :] = update\n",
    "            \n",
    "            track = np.append(track, [Nodes])\n",
    "            \n",
    "        except:\n",
    "            break\n",
    "            \n",
    "    return times_matrix, track    "
   ]
  },
  {
   "cell_type": "code",
   "execution_count": 75,
   "id": "1a30e0d9-df9b-47ab-b61d-928f615f439a",
   "metadata": {
    "tags": []
   },
   "outputs": [],
   "source": [
    "#time_array, track = update_time(weight_array, seed_node = 3)"
   ]
  },
  {
   "cell_type": "code",
   "execution_count": 102,
   "id": "3c843141-7bc5-4092-ab62-6de1a553a8fb",
   "metadata": {
    "tags": []
   },
   "outputs": [
    {
     "name": "stdout",
     "output_type": "stream",
     "text": [
      "[[0 2 1 0]\n",
      " [2 0 2 3]\n",
      " [1 2 0 0]\n",
      " [0 3 0 0]]\n"
     ]
    }
   ],
   "source": [
    "print(weight_array)"
   ]
  },
  {
   "cell_type": "code",
   "execution_count": 103,
   "id": "3f28414d-51d8-497b-88cf-b499d74542db",
   "metadata": {
    "tags": []
   },
   "outputs": [
    {
     "name": "stdout",
     "output_type": "stream",
     "text": [
      "min_values 1\n",
      "min_values 2\n"
     ]
    }
   ],
   "source": [
    "time_array2, track = update_time(weight_array, seed_node = 3)"
   ]
  },
  {
   "cell_type": "code",
   "execution_count": 104,
   "id": "cd1cfe61-8130-4974-bc2f-8f2f23b11186",
   "metadata": {
    "tags": []
   },
   "outputs": [
    {
     "data": {
      "text/plain": [
       "array([[0, 3, 2, 0],\n",
       "       [4, 0, 4, 5],\n",
       "       [1, 2, 0, 0],\n",
       "       [0, 3, 0, 0]])"
      ]
     },
     "execution_count": 104,
     "metadata": {},
     "output_type": "execute_result"
    }
   ],
   "source": [
    "time_array2"
   ]
  },
  {
   "cell_type": "code",
   "execution_count": 105,
   "id": "11f1e229-9e35-45b1-a43d-3e5623dbfcd0",
   "metadata": {
    "tags": []
   },
   "outputs": [
    {
     "data": {
      "text/plain": [
       "array([[0., 0., 0., 0.],\n",
       "       [0., 0., 0., 0.],\n",
       "       [0., 0., 0., 0.],\n",
       "       [0., 0., 0., 0.]])"
      ]
     },
     "execution_count": 105,
     "metadata": {},
     "output_type": "execute_result"
    }
   ],
   "source": [
    "infect_array"
   ]
  },
  {
   "cell_type": "code",
   "execution_count": 140,
   "id": "50741638-d0e3-4ed2-8f5d-cbe44737bc10",
   "metadata": {
    "tags": []
   },
   "outputs": [
    {
     "data": {
      "text/plain": [
       "array([[0.  , 0.05, 0.68, 0.  ],\n",
       "       [0.12, 0.  , 0.19, 0.67],\n",
       "       [0.92, 0.42, 0.  , 0.  ],\n",
       "       [0.  , 0.32, 0.  , 0.  ]])"
      ]
     },
     "execution_count": 140,
     "metadata": {},
     "output_type": "execute_result"
    }
   ],
   "source": [
    "prob_array"
   ]
  },
  {
   "cell_type": "code",
   "execution_count": 107,
   "id": "f311f842-b6a0-46d6-a7b9-90d5550a93b7",
   "metadata": {
    "tags": []
   },
   "outputs": [
    {
     "data": {
      "text/plain": [
       "array([2, 0, 1])"
      ]
     },
     "execution_count": 107,
     "metadata": {},
     "output_type": "execute_result"
    }
   ],
   "source": [
    "track # NODES"
   ]
  },
  {
   "cell_type": "code",
   "execution_count": 144,
   "id": "768334d3-7b9b-44ba-8b55-6c418ae5191f",
   "metadata": {
    "tags": []
   },
   "outputs": [
    {
     "name": "stdout",
     "output_type": "stream",
     "text": [
      "nod 2\n",
      "[0.92 0.42 0.   0.  ]\n",
      "[1. 1. 0. 0.]\n",
      "GO inside\n",
      "i 1\n",
      "0\n",
      "infected row [0 1 1 0]\n",
      "[0.   0.05 0.68 0.  ]\n",
      "done\n",
      "1\n",
      "infected row [1 0 1 1]\n",
      "[0.12 0.   0.19 0.67]\n",
      "done\n",
      "i 0\n",
      "i = 0 pass\n",
      "i 0\n",
      "i = 0 pass\n"
     ]
    }
   ],
   "source": [
    "p = 0.03\n",
    "print(\"nod\", track[0])\n",
    "infection_row = np.where(prob_array[track[0], :] >= p, 1, 0)\n",
    "infect_array[track[0],:] = infection_row\n",
    "print(prob_array[track[0], :])\n",
    "print(infect_array[track[0], :])\n",
    "print(\"GO inside\")\n",
    "\n",
    "\n",
    "for i in infection_row[1:]: # 1, 0, 0, 0\n",
    "    print(\"i\", i)\n",
    "    \n",
    "    if i == 1:\n",
    "        for j in track[1:]: #Nodes 0 and 1 left\n",
    "            print(j)\n",
    "            infect_row = np.where(prob_array[j, :] >= p, 1, 0)\n",
    "            infect_array[j,:] = infect_row\n",
    "            print(\"infected row\", infect_row)\n",
    "            print(prob_array[j, :])\n",
    "            print(\"done\")\n",
    "    else:\n",
    "        print(\"i =\", i, \"pass\")\n",
    "        pass\n",
    "     "
   ]
  },
  {
   "cell_type": "code",
   "execution_count": 145,
   "id": "b2b594b8-4499-4bb3-97f4-f902b155f5cf",
   "metadata": {
    "tags": []
   },
   "outputs": [
    {
     "data": {
      "text/plain": [
       "array([[0.  , 0.05, 0.68, 0.  ],\n",
       "       [0.12, 0.  , 0.19, 0.67],\n",
       "       [0.92, 0.42, 0.  , 0.  ],\n",
       "       [0.  , 0.32, 0.  , 0.  ]])"
      ]
     },
     "execution_count": 145,
     "metadata": {},
     "output_type": "execute_result"
    }
   ],
   "source": [
    "prob_array"
   ]
  },
  {
   "cell_type": "code",
   "execution_count": 146,
   "id": "8b2a6421-f946-4bca-977b-d8a66fdfe5c0",
   "metadata": {
    "tags": []
   },
   "outputs": [
    {
     "data": {
      "text/plain": [
       "array([[0., 1., 1., 0.],\n",
       "       [1., 0., 1., 1.],\n",
       "       [1., 1., 0., 0.],\n",
       "       [0., 0., 0., 0.]])"
      ]
     },
     "execution_count": 146,
     "metadata": {},
     "output_type": "execute_result"
    }
   ],
   "source": [
    "infect_array"
   ]
  },
  {
   "cell_type": "code",
   "execution_count": 128,
   "id": "9cf7e7e3-074f-4b87-808d-901db9ce6cc9",
   "metadata": {
    "tags": []
   },
   "outputs": [
    {
     "data": {
      "text/plain": [
       "array([2, 0, 1])"
      ]
     },
     "execution_count": 128,
     "metadata": {},
     "output_type": "execute_result"
    }
   ],
   "source": [
    "track"
   ]
  },
  {
   "cell_type": "code",
   "execution_count": null,
   "id": "851360ac-e646-4c53-9b9a-4e315896b106",
   "metadata": {},
   "outputs": [],
   "source": []
  }
 ],
 "metadata": {
  "kernelspec": {
   "display_name": "Python 3",
   "language": "python",
   "name": "python3"
  },
  "language_info": {
   "codemirror_mode": {
    "name": "ipython",
    "version": 3
   },
   "file_extension": ".py",
   "mimetype": "text/x-python",
   "name": "python",
   "nbconvert_exporter": "python",
   "pygments_lexer": "ipython3",
   "version": "3.10.8"
  }
 },
 "nbformat": 4,
 "nbformat_minor": 5
}
