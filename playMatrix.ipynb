{
 "cells": [
  {
   "cell_type": "code",
   "execution_count": 1,
   "id": "cef06653-790c-4d8e-b346-3e7c63d1412f",
   "metadata": {
    "tags": []
   },
   "outputs": [
    {
     "data": {
      "image/png": "[encoded data removed]",
      "text/plain": [
       "<Figure size 640x480 with 1 Axes>"
      ]
     },
     "metadata": {},
     "output_type": "display_data"
    }
   ],
   "source": [
    "import networkx as nx\n",
    "import matplotlib.pyplot as plt\n",
    "import numpy as np\n",
    "import random\n",
    "\n",
    "# Create a graph with 10 nodes\n",
    "G = nx.Graph()\n",
    "\n",
    "# Add nodes to the graph\n",
    "nodes = 4\n",
    "\n",
    "G.add_nodes_from(range(1, nodes))\n",
    "G.add_edge(1, 2, weight=2)\n",
    "G.add_edge(1, 3, weight=1)\n",
    "G.add_edge(3, 2, weight=2)\n",
    "G.add_edge(2, 4, weight=3)\n",
    "\n",
    "# Plot the graph with weights\n",
    "pos = nx.spring_layout(G)\n",
    "nx.draw(G, pos, with_labels=True, font_weight='bold', node_size=700, node_color='skyblue', font_size=8)\n",
    "\n",
    "# Add edge labels with weights\n",
    "labels = nx.get_edge_attributes(G, 'weight')\n",
    "nx.draw_networkx_edge_labels(G, pos, edge_labels=labels)\n",
    "\n",
    "plt.show()"
   ]
  },
  {
   "cell_type": "markdown",
   "id": "7a7ed713-9ebf-45a4-bf54-cb3495df313f",
   "metadata": {},
   "source": [
    "## 1. Weight matrix"
   ]
  },
  {
   "cell_type": "code",
   "execution_count": 2,
   "id": "07face10-be83-487f-9bf7-32b69efa7b2a",
   "metadata": {
    "tags": []
   },
   "outputs": [
    {
     "name": "stdout",
     "output_type": "stream",
     "text": [
      "[[0 2 1 0]\n",
      " [2 0 2 3]\n",
      " [1 2 0 0]\n",
      " [0 3 0 0]]\n"
     ]
    }
   ],
   "source": [
    "weight_array = nx.adjacency_matrix(G, weight='weight').todense()\n",
    "print(weight_array)"
   ]
  },
  {
   "cell_type": "code",
   "execution_count": 3,
   "id": "b561917a-fc3c-4dc0-af1a-b646d5695d7f",
   "metadata": {
    "tags": []
   },
   "outputs": [
    {
     "name": "stdout",
     "output_type": "stream",
     "text": [
      "Shortest distances from node 3: {3: 0, 1: 1, 2: 2, 4: 5}\n"
     ]
    }
   ],
   "source": [
    "start_node = 3\n",
    "shortest_paths = nx.shortest_path_length(G, source=start_node, weight='weight')\n",
    "print(f\"Shortest distances from node {start_node}: {shortest_paths}\")"
   ]
  },
  {
   "cell_type": "code",
   "execution_count": 4,
   "id": "be200ff4-b665-4d1b-b560-ef75d8f95654",
   "metadata": {
    "tags": []
   },
   "outputs": [
    {
     "data": {
      "text/plain": [
       "{3: 0, 1: 1, 2: 2, 4: 5}"
      ]
     },
     "execution_count": 4,
     "metadata": {},
     "output_type": "execute_result"
    }
   ],
   "source": [
    "shortest_paths"
   ]
  },
  {
   "cell_type": "code",
   "execution_count": 5,
   "id": "0fc5b2fe-bc38-4000-a6fa-841cdc46b925",
   "metadata": {
    "tags": []
   },
   "outputs": [
    {
     "name": "stdout",
     "output_type": "stream",
     "text": [
      "[[0.   0.95 0.73 0.  ]\n",
      " [0.16 0.   0.06 0.87]\n",
      " [0.6  0.71 0.   0.  ]\n",
      " [0.   0.21 0.   0.  ]]\n"
     ]
    }
   ],
   "source": [
    "np.random.seed(42)\n",
    "nod_numbers = len(G.nodes())\n",
    "\n",
    "probabilities = np.round(np.random.rand(nod_numbers, nod_numbers), decimals=2)\n",
    "prob_array = np.where(weight_array > 0, probabilities, 0)\n",
    "print(prob_array)"
   ]
  },
  {
   "cell_type": "code",
   "execution_count": 68,
   "id": "598e8d3e-9881-4858-b8c5-4807bdee3d1f",
   "metadata": {
    "tags": []
   },
   "outputs": [
    {
     "name": "stdout",
     "output_type": "stream",
     "text": [
      "[[0. 0. 0. 0.]\n",
      " [0. 0. 0. 0.]\n",
      " [0. 0. 0. 0.]\n",
      " [0. 0. 0. 0.]]\n"
     ]
    }
   ],
   "source": [
    "def infection_matrix(net):\n",
    "    \n",
    "    num_nodes = len(net.nodes())\n",
    "    infection_array = np.zeros((num_nodes, num_nodes), dtype=float)\n",
    "\n",
    "                \n",
    "    return infection_array\n",
    "\n",
    "infect_array = infection_matrix(G)\n",
    "print(infect_array)"
   ]
  },
  {
   "cell_type": "code",
   "execution_count": 7,
   "id": "84b0ad64-3da7-4550-bc75-4f3789c7edf3",
   "metadata": {
    "tags": []
   },
   "outputs": [
    {
     "data": {
      "text/plain": [
       "array([0, 1, 3])"
      ]
     },
     "execution_count": 7,
     "metadata": {},
     "output_type": "execute_result"
    }
   ],
   "source": [
    "node_idx = (np.array(list(shortest_paths.keys())) - 1)[-3:]\n",
    "node_idx"
   ]
  },
  {
   "cell_type": "code",
   "execution_count": 8,
   "id": "119103ff-da0a-47c4-aa52-fc19a25efa34",
   "metadata": {
    "tags": []
   },
   "outputs": [
    {
     "data": {
      "text/plain": [
       "array([0.  , 0.95, 0.73, 0.  ])"
      ]
     },
     "execution_count": 8,
     "metadata": {},
     "output_type": "execute_result"
    }
   ],
   "source": [
    "prob_array[0,:]"
   ]
  },
  {
   "cell_type": "code",
   "execution_count": 10,
   "id": "237d6d8b-ddcd-4180-9aeb-07b97e4d3ee7",
   "metadata": {
    "tags": []
   },
   "outputs": [
    {
     "name": "stdout",
     "output_type": "stream",
     "text": [
      "[1 2 0 0]\n"
     ]
    }
   ],
   "source": [
    "print(weight_array[2,:])"
   ]
  },
  {
   "cell_type": "code",
   "execution_count": 13,
   "id": "65b39ecd-bd4d-443a-b240-d37490014a44",
   "metadata": {
    "tags": []
   },
   "outputs": [
    {
     "name": "stdout",
     "output_type": "stream",
     "text": [
      "node 0\n",
      "short path 1\n",
      "node 1\n",
      "short path 2\n",
      "node 3\n",
      "short path 5\n",
      "[2 0 1 3]\n",
      "[[0. 0. 0. 0.]\n",
      " [0. 0. 0. 0.]\n",
      " [1. 1. 0. 0.]\n",
      " [0. 0. 0. 0.]]\n"
     ]
    }
   ],
   "source": [
    "##\n",
    "# Play\n",
    "######\n",
    "seed_node = 3\n",
    "p = 0.5\n",
    "seed_iter = 0\n",
    "track = np.array([seed_node - 1])\n",
    "\n",
    "if iteration == 0:\n",
    "    for nod, key in zip(node_idx, node_idx+1):\n",
    "        print(\"node\", nod)\n",
    "        \n",
    "        #infection_row = np.where(stack[nod, :, 2] >= p, 1, 0)\n",
    "        # track[seed_iter] => \n",
    "        infection_node = np.where(prob_array[track[seed_iter],nod] >= p, 1, 0)\n",
    "\n",
    "        #stack[nod, :, 3] = infection_row\n",
    "        infect_array[track[seed_iter], nod] = infection_node\n",
    "        \n",
    "        print(\"short path\", shortest_paths[key])\n",
    "        \n",
    "        \n",
    "        track = np.append(track, [nod])\n",
    "        \n",
    "else:\n",
    "    pass\n",
    "        \n",
    "print(track)\n",
    "print(infect_array)\n"
   ]
  },
  {
   "cell_type": "code",
   "execution_count": 23,
   "id": "f3487ced-f56a-4680-8c43-8befbf23d9f5",
   "metadata": {
    "tags": []
   },
   "outputs": [],
   "source": [
    "def update_time(times_matrix, seed_node):\n",
    "    \n",
    "    values = 0\n",
    "    track = np.array([seed_node - 1])\n",
    "    for _ in range(times_matrix.shape[0]):\n",
    "        try:\n",
    "            # What was the min value of the arrange greater than 0 (it-self)--> faster transmittion\n",
    "            min_value = np.min(times_matrix[(seed_node - 1), times_matrix[(seed_node - 1), :] > values])\n",
    "            print(\"min_values\", min_value)\n",
    "            values = min_value\n",
    "\n",
    "            # Index\n",
    "            # find the array of indeces in the array with minimum values Nodes\n",
    "            Nodes = np.where(times_matrix[(seed_node - 1), :] == min_value)[0]\n",
    "\n",
    "            ##########################\n",
    "            #Update the infection time\n",
    "            ##########################\n",
    "            update = times_matrix[Nodes, :] \n",
    "            update[update > 0] += min_value\n",
    "            #add the update\n",
    "            times_matrix[Nodes, :] = update\n",
    "            \n",
    "            track = np.append(track, [Nodes])\n",
    "            \n",
    "        except:\n",
    "            break\n",
    "            \n",
    "    return times_matrix, track\n",
    "    "
   ]
  },
  {
   "cell_type": "code",
   "execution_count": 27,
   "id": "1a30e0d9-df9b-47ab-b61d-928f615f439a",
   "metadata": {
    "tags": []
   },
   "outputs": [
    {
     "name": "stdout",
     "output_type": "stream",
     "text": [
      "min_values 1\n",
      "min_values 2\n"
     ]
    }
   ],
   "source": [
    "time_array, track = update_time( weight_array, seed_node = 3)"
   ]
  },
  {
   "cell_type": "code",
   "execution_count": 32,
   "id": "3c843141-7bc5-4092-ab62-6de1a553a8fb",
   "metadata": {
    "tags": []
   },
   "outputs": [
    {
     "data": {
      "text/plain": [
       "array([[0, 5, 4, 0],\n",
       "       [8, 0, 8, 9],\n",
       "       [1, 2, 0, 0],\n",
       "       [0, 3, 0, 0]])"
      ]
     },
     "execution_count": 32,
     "metadata": {},
     "output_type": "execute_result"
    }
   ],
   "source": [
    "weight_array"
   ]
  },
  {
   "cell_type": "code",
   "execution_count": 67,
   "id": "11f1e229-9e35-45b1-a43d-3e5623dbfcd0",
   "metadata": {
    "tags": []
   },
   "outputs": [
    {
     "data": {
      "text/plain": [
       "array([[0., 1., 1., 0.],\n",
       "       [0., 0., 0., 1.],\n",
       "       [1., 1., 0., 0.],\n",
       "       [0., 0., 0., 0.]])"
      ]
     },
     "execution_count": 67,
     "metadata": {},
     "output_type": "execute_result"
    }
   ],
   "source": [
    "infect_array"
   ]
  },
  {
   "cell_type": "code",
   "execution_count": 30,
   "id": "50741638-d0e3-4ed2-8f5d-cbe44737bc10",
   "metadata": {
    "tags": []
   },
   "outputs": [
    {
     "data": {
      "text/plain": [
       "array([[0.  , 0.95, 0.73, 0.  ],\n",
       "       [0.16, 0.  , 0.06, 0.87],\n",
       "       [0.6 , 0.71, 0.  , 0.  ],\n",
       "       [0.  , 0.21, 0.  , 0.  ]])"
      ]
     },
     "execution_count": 30,
     "metadata": {},
     "output_type": "execute_result"
    }
   ],
   "source": [
    "prob_array"
   ]
  },
  {
   "cell_type": "code",
   "execution_count": 31,
   "id": "f311f842-b6a0-46d6-a7b9-90d5550a93b7",
   "metadata": {
    "tags": []
   },
   "outputs": [
    {
     "data": {
      "text/plain": [
       "array([2, 0, 1])"
      ]
     },
     "execution_count": 31,
     "metadata": {},
     "output_type": "execute_result"
    }
   ],
   "source": [
    "track # NODES"
   ]
  },
  {
   "cell_type": "code",
   "execution_count": 69,
   "id": "768334d3-7b9b-44ba-8b55-6c418ae5191f",
   "metadata": {
    "tags": []
   },
   "outputs": [
    {
     "name": "stdout",
     "output_type": "stream",
     "text": [
      "[2 0 1]\n",
      "[[2 0 1]\n",
      " [0 0 0]]\n",
      "nod 2\n",
      "[0.6  0.71 0.   0.  ]\n",
      "NEW LINE\n",
      "nod 0\n",
      "[0.   0.95 0.73 0.  ]\n",
      "NEW LINE\n",
      "nod 1\n",
      "[0.16 0.   0.06 0.87]\n",
      "NEW LINE\n"
     ]
    }
   ],
   "source": [
    "#time_updated, track = update_time(stack[:,:,1], seed_node)\n",
    "\n",
    "p = 0.5\n",
    "#update time\n",
    "\n",
    "#infect\n",
    "print(track)\n",
    "\n",
    "two_rows_array = np.array([track,\n",
    "                           [0, 0, 0]])\n",
    "\n",
    "print(two_rows_array)\n",
    "\n",
    "for nod in track:\n",
    "    print(\"nod\", nod)\n",
    "    #infection going on!\n",
    "    infection_row = np.where(prob_array[nod, :] >= p, 1, 0)\n",
    "    infect_array[nod,:] = infection_row\n",
    "    print(prob_array[nod, :])\n",
    "    \n",
    "    print(\"NEW LINE\")\n",
    "      \n",
    "    \n",
    "    for i in infection_row:\n",
    "        if i == 1:\n",
    "            for trck in track:\n",
    "                infect_row = np.where(prob_array[trck, :] >= p, 1, 0)\n",
    "                infect_array[trck,:] = infect_row\n",
    "            \n",
    "        else:\n",
    "            pass\n",
    "#if infection_row[0] == 1:\n",
    "    "
   ]
  },
  {
   "cell_type": "code",
   "execution_count": 70,
   "id": "eb12980d-b8fb-4bca-8175-6ed7ed121edb",
   "metadata": {
    "tags": []
   },
   "outputs": [
    {
     "data": {
      "text/plain": [
       "array([[0., 1., 1., 0.],\n",
       "       [0., 0., 0., 1.],\n",
       "       [1., 1., 0., 0.],\n",
       "       [0., 0., 0., 0.]])"
      ]
     },
     "execution_count": 70,
     "metadata": {},
     "output_type": "execute_result"
    }
   ],
   "source": [
    "infect_array"
   ]
  },
  {
   "cell_type": "code",
   "execution_count": 71,
   "id": "b2b594b8-4499-4bb3-97f4-f902b155f5cf",
   "metadata": {
    "tags": []
   },
   "outputs": [
    {
     "data": {
      "text/plain": [
       "array([[0.  , 0.95, 0.73, 0.  ],\n",
       "       [0.16, 0.  , 0.06, 0.87],\n",
       "       [0.6 , 0.71, 0.  , 0.  ],\n",
       "       [0.  , 0.21, 0.  , 0.  ]])"
      ]
     },
     "execution_count": 71,
     "metadata": {},
     "output_type": "execute_result"
    }
   ],
   "source": [
    "prob_array\n"
   ]
  },
  {
   "cell_type": "code",
   "execution_count": 63,
   "id": "8b2a6421-f946-4bca-977b-d8a66fdfe5c0",
   "metadata": {
    "tags": []
   },
   "outputs": [
    {
     "data": {
      "text/plain": [
       "0"
      ]
     },
     "execution_count": 63,
     "metadata": {},
     "output_type": "execute_result"
    }
   ],
   "source": []
  },
  {
   "cell_type": "code",
   "execution_count": 64,
   "id": "9cf7e7e3-074f-4b87-808d-901db9ce6cc9",
   "metadata": {
    "tags": []
   },
   "outputs": [
    {
     "data": {
      "text/plain": [
       "array([2, 0, 1])"
      ]
     },
     "execution_count": 64,
     "metadata": {},
     "output_type": "execute_result"
    }
   ],
   "source": [
    "track"
   ]
  },
  {
   "cell_type": "code",
   "execution_count": null,
   "id": "851360ac-e646-4c53-9b9a-4e315896b106",
   "metadata": {},
   "outputs": [],
   "source": []
  }
 ],
 "metadata": {
  "kernelspec": {
   "display_name": "Python 3",
   "language": "python",
   "name": "python3"
  },
  "language_info": {
   "codemirror_mode": {
    "name": "ipython",
    "version": 3
   },
   "file_extension": ".py",
   "mimetype": "text/x-python",
   "name": "python",
   "nbconvert_exporter": "python",
   "pygments_lexer": "ipython3",
   "version": "3.10.8"
  }
 },
 "nbformat": 4,
 "nbformat_minor": 5
}
