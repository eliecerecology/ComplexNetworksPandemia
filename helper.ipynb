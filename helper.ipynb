{
 "cells": [
  {
   "cell_type": "code",
   "execution_count": 1,
   "id": "4aa21619-c392-432c-b1b5-44493b19c658",
   "metadata": {
    "tags": []
   },
   "outputs": [],
   "source": [
    "import networkx as nx\n",
    "import matplotlib.pyplot as plt\n",
    "import numpy as np\n",
    "import random"
   ]
  },
  {
   "cell_type": "code",
   "execution_count": 2,
   "id": "1091a106-2447-4048-bb60-bfc997c5a76a",
   "metadata": {
    "tags": []
   },
   "outputs": [],
   "source": [
    "def create_time_matrix(net):\n",
    "    '''\n",
    "    net: transform a net into a Adj matrix with weights\n",
    "    '''\n",
    "    num_nodes = len(net.nodes())\n",
    "    times_array = np.zeros((num_nodes, num_nodes), dtype=float)\n",
    "\n",
    "    for i, node in enumerate(net.nodes()):\n",
    "        # Calculate shortest paths from the current node\n",
    "        my_dict = nx.shortest_path_length(net, source=node, weight='weight')\n",
    "        sorted_dict = {key: my_dict[key] for key in sorted(my_dict)}\n",
    "\n",
    "        # Fill the corresponding row in the result array\n",
    "        for j, target_node in enumerate(net.nodes()):\n",
    "            \n",
    "            times_array[i, j] = sorted_dict.get(target_node, float('inf'))\n",
    "            \n",
    "    return times_array\n",
    "\n",
    "def infection_matrix(net):\n",
    "    '''\n",
    "    net: take the size of the netwokr and create a 0 matrix\n",
    "    '''\n",
    "    num_nodes = len(net.nodes())\n",
    "    infection_array = np.zeros((num_nodes, num_nodes), dtype=float)\n",
    "\n",
    "    return infection_array"
   ]
  },
  {
   "cell_type": "code",
   "execution_count": 11,
   "id": "7b65ab82-9147-44e6-9ab7-19b4e6600b9e",
   "metadata": {
    "tags": []
   },
   "outputs": [],
   "source": [
    "def update_time(time_matrix, seed_node):\n",
    "    '''\n",
    "    time_matrix: takes a time matrix and update the time of contact\n",
    "    seed_node: the origin of the infection\n",
    "    '''\n",
    "  \n",
    "    values = 0\n",
    "    track = np.array([seed_node - 1])\n",
    "    for _ in range(time_matrix.shape[0]):\n",
    "        try:\n",
    "            # What was the min value of the arrange greater than 0 (it-self)--> faster transmittion\n",
    "            min_value = np.min(times_array[(seed_node - 1), times_array[(seed_node - 1), :] > values])\n",
    "            values = min_value\n",
    "            \n",
    "            # Indices: find the array of indeces in the array with minimum values Nodes\n",
    "            Nodes = np.where(times_array[(seed_node - 1), :] == min_value)[0]\n",
    "            print(\"Node are: \", Nodes)\n",
    "\n",
    "            #Update the infection time\n",
    "            update = times_array[Nodes, :] \n",
    "            update[update > 0] += min_value\n",
    "            \n",
    "            times_array[Nodes, :] = update\n",
    "            track = np.append(track, [Nodes])\n",
    "            \n",
    "        except:\n",
    "            break\n",
    "            \n",
    "    return times_array, track\n",
    "    "
   ]
  },
  {
   "cell_type": "code",
   "execution_count": 4,
   "id": "55d64dea-b028-45a3-942c-c2d68c41b82c",
   "metadata": {
    "tags": []
   },
   "outputs": [],
   "source": [
    "def infect_func(stack, track_nodes, time_update, p):\n",
    "    '''\n",
    "    stack: picks the stack,\n",
    "    track_nodes: the order of nodes of contamination\n",
    "    time_update: the updated matrix and put into the stack\n",
    "    p: probability of infection\n",
    "    '''   \n",
    "      \n",
    "    # add the updated time\n",
    "    stack[:,:,1] = time_update\n",
    "    \n",
    "    #infect\n",
    "    for nod in track_nodes:\n",
    "        #infection going on!\n",
    "        infection_row = np.where(stack[nod, :, 2] >= p, 1, 0)\n",
    "        stack[nod, :, 3] = infection_row\n",
    "    return stack"
   ]
  },
  {
   "cell_type": "markdown",
   "id": "e62c7b7c-bf27-47ab-98f7-b8c2910ea4b5",
   "metadata": {},
   "source": [
    "## Main"
   ]
  },
  {
   "cell_type": "code",
   "execution_count": 5,
   "id": "e9e51fd0-c724-4edc-8f0d-53fb0b1f747a",
   "metadata": {
    "tags": []
   },
   "outputs": [
    {
     "data": {
      "image/png": "[encoded data removed]",
      "text/plain": [
       "<Figure size 640x480 with 1 Axes>"
      ]
     },
     "metadata": {},
     "output_type": "display_data"
    }
   ],
   "source": [
    "# Create a graph with 10 nodes\n",
    "G = nx.Graph()\n",
    "\n",
    "# Add nodes to the graph\n",
    "nodes = 8\n",
    "\n",
    "G.add_nodes_from(range(1, nodes))\n",
    "G.add_edge(2, 4, weight=3)\n",
    "G.add_edge(4, 3, weight=2)\n",
    "G.add_edge(3, 7, weight=6)\n",
    "G.add_edge(7, 1, weight=6)\n",
    "G.add_edge(7, 4, weight=2)\n",
    "G.add_edge(7, 5, weight=4)\n",
    "G.add_edge(1, 6, weight=2)\n",
    "G.add_edge(5, 1, weight=4)\n",
    "G.add_edge(4, 1, weight=3)\n",
    "'''\n",
    "G.add_edge(5, 8, weight=1)\n",
    "G.add_edge(5, 9, weight=4)\n",
    "G.add_edge(9, 10, weight=2)\n",
    "G.add_edge(9, 11, weight=2)\n",
    "G.add_edge(11, 6, weight=1)\n",
    "'''\n",
    "# Plot the graph with weights\n",
    "pos = nx.spring_layout(G)\n",
    "nx.draw(G, pos, with_labels=True, font_weight='bold', node_size=700, node_color='skyblue', font_size=8)\n",
    "\n",
    "# Add edge labels with weights\n",
    "labels = nx.get_edge_attributes(G, 'weight')\n",
    "nx.draw_networkx_edge_labels(G, pos, edge_labels=labels)\n",
    "\n",
    "plt.show()"
   ]
  },
  {
   "cell_type": "code",
   "execution_count": 6,
   "id": "4303e513-750a-4a40-8d63-a5850e23fde5",
   "metadata": {
    "tags": []
   },
   "outputs": [],
   "source": [
    "# 1.\n",
    "adj_array = nx.adjacency_matrix(G, weight=None).toarray()\n",
    "# 2.\n",
    "times_array = create_time_matrix(G)\n",
    "# 3.\n",
    "infect_array = infection_matrix(G)\n",
    "# 4.\n",
    "np.random.seed(42)\n",
    "nod_numbers = len(G.nodes())\n",
    "\n",
    "probabilities = np.round(np.random.rand(nod_numbers, nod_numbers), decimals=2)\n",
    "prob_array = np.where(adj_array == 1, probabilities, 0)"
   ]
  },
  {
   "cell_type": "code",
   "execution_count": 8,
   "id": "69cc707e-cfc1-4b3c-9a80-ad91598281f3",
   "metadata": {
    "tags": []
   },
   "outputs": [
    {
     "data": {
      "text/plain": [
       "array([[0, 0, 0, 1, 1, 1, 1],\n",
       "       [0, 0, 0, 1, 0, 0, 0],\n",
       "       [0, 0, 0, 1, 0, 0, 1],\n",
       "       [1, 1, 1, 0, 0, 0, 1],\n",
       "       [1, 0, 0, 0, 0, 0, 1],\n",
       "       [1, 0, 0, 0, 0, 0, 0],\n",
       "       [1, 0, 1, 1, 1, 0, 0]])"
      ]
     },
     "execution_count": 8,
     "metadata": {},
     "output_type": "execute_result"
    }
   ],
   "source": [
    "adj_array"
   ]
  },
  {
   "cell_type": "code",
   "execution_count": 9,
   "id": "6efa7468-1eb4-48fd-922c-421215dae9dc",
   "metadata": {
    "tags": []
   },
   "outputs": [
    {
     "data": {
      "text/plain": [
       "array([[0.  , 0.  , 0.  , 0.6 , 0.16, 0.16, 0.06],\n",
       "       [0.  , 0.  , 0.  , 0.02, 0.  , 0.  , 0.  ],\n",
       "       [0.  , 0.  , 0.  , 0.52, 0.  , 0.  , 0.61],\n",
       "       [0.14, 0.29, 0.37, 0.  , 0.  , 0.  , 0.51],\n",
       "       [0.59, 0.  , 0.  , 0.  , 0.  , 0.  , 0.97],\n",
       "       [0.81, 0.  , 0.  , 0.  , 0.  , 0.  , 0.  ],\n",
       "       [0.03, 0.  , 0.26, 0.66, 0.31, 0.  , 0.  ]])"
      ]
     },
     "execution_count": 9,
     "metadata": {},
     "output_type": "execute_result"
    }
   ],
   "source": [
    "prob_array"
   ]
  },
  {
   "cell_type": "code",
   "execution_count": 10,
   "id": "1dfd94ef-0257-4ed2-b2b5-c90e6ee9e826",
   "metadata": {
    "tags": []
   },
   "outputs": [
    {
     "data": {
      "text/plain": [
       "array([[0., 6., 5., 3., 4., 2., 5.],\n",
       "       [6., 0., 5., 3., 9., 8., 5.],\n",
       "       [5., 5., 0., 2., 8., 7., 4.],\n",
       "       [3., 3., 2., 0., 6., 5., 2.],\n",
       "       [4., 9., 8., 6., 0., 6., 4.],\n",
       "       [2., 8., 7., 5., 6., 0., 7.],\n",
       "       [5., 5., 4., 2., 4., 7., 0.]])"
      ]
     },
     "execution_count": 10,
     "metadata": {},
     "output_type": "execute_result"
    }
   ],
   "source": [
    "times_array"
   ]
  },
  {
   "cell_type": "code",
   "execution_count": 12,
   "id": "9457e22e-9844-4ff3-828e-ac7e18d46051",
   "metadata": {
    "tags": []
   },
   "outputs": [],
   "source": [
    "# Vertically stack the arrays\n",
    "stack = np.dstack((adj_array, \n",
    "                   times_array,\n",
    "                   prob_array, \n",
    "                   infect_array))"
   ]
  },
  {
   "cell_type": "code",
   "execution_count": 13,
   "id": "88719af8-adf4-42de-ba19-fa94a97ece49",
   "metadata": {
    "tags": []
   },
   "outputs": [
    {
     "name": "stdout",
     "output_type": "stream",
     "text": [
      "Node are:  [3]\n",
      "Node are:  [2 6]\n",
      "Node are:  [0]\n",
      "Node are:  [5]\n",
      "Node are:  [4]\n"
     ]
    }
   ],
   "source": [
    "# A.1. Update time\n",
    "time_updated, track = update_time(stack[:,:,1], seed_node = 2)"
   ]
  },
  {
   "cell_type": "code",
   "execution_count": 14,
   "id": "167741d0-93f5-4925-8d87-ed9e52f35ee3",
   "metadata": {
    "tags": []
   },
   "outputs": [
    {
     "data": {
      "text/plain": [
       "array([1, 3, 2, 6, 0, 5, 4])"
      ]
     },
     "execution_count": 14,
     "metadata": {},
     "output_type": "execute_result"
    }
   ],
   "source": [
    "track"
   ]
  },
  {
   "cell_type": "code",
   "execution_count": 140,
   "id": "d77a92cb-3773-4448-9513-576f38f4eda3",
   "metadata": {
    "tags": []
   },
   "outputs": [],
   "source": [
    "# A.2. Infection matrix\n",
    "h = infect_func(stack, track, time_updated, p = 0.2)"
   ]
  },
  {
   "cell_type": "code",
   "execution_count": 141,
   "id": "296562b4-5f05-49c9-b4ff-ef29ed4ebf23",
   "metadata": {
    "tags": []
   },
   "outputs": [
    {
     "data": {
      "text/plain": [
       "array([1, 3, 2, 6, 0, 5, 4])"
      ]
     },
     "execution_count": 141,
     "metadata": {},
     "output_type": "execute_result"
    }
   ],
   "source": [
    "track #NODES"
   ]
  },
  {
   "cell_type": "code",
   "execution_count": 142,
   "id": "29d900b9-c446-4f86-884f-e71c9beb9b56",
   "metadata": {
    "tags": []
   },
   "outputs": [],
   "source": [
    "values = h[track[0],track,1]"
   ]
  },
  {
   "cell_type": "code",
   "execution_count": 143,
   "id": "e2313004-2d53-4073-947a-f32b2c51c45e",
   "metadata": {},
   "outputs": [],
   "source": [
    "array1 = track\n",
    "array2 = values\n",
    "\n",
    "# Concatenating two 1D arrays\n",
    "concatenated_array = np.column_stack((array1, array2))\n"
   ]
  },
  {
   "cell_type": "code",
   "execution_count": 144,
   "id": "aad0f626-ed39-4b05-9665-c4619bd8f4d0",
   "metadata": {
    "tags": []
   },
   "outputs": [
    {
     "data": {
      "text/plain": [
       "array([[ 1.,  0.],\n",
       "       [ 3., 12.],\n",
       "       [ 2., 14.],\n",
       "       [ 6., 14.],\n",
       "       [ 0., 15.],\n",
       "       [ 5., 17.],\n",
       "       [ 4., 18.]])"
      ]
     },
     "execution_count": 144,
     "metadata": {},
     "output_type": "execute_result"
    }
   ],
   "source": [
    "concatenated_array"
   ]
  },
  {
   "cell_type": "code",
   "execution_count": 145,
   "id": "a1a51e5a-a560-40fb-b953-5d1bd5bac907",
   "metadata": {
    "tags": []
   },
   "outputs": [
    {
     "data": {
      "image/png": "[encoded data removed]",
      "text/plain": [
       "<Figure size 640x480 with 1 Axes>"
      ]
     },
     "metadata": {},
     "output_type": "display_data"
    }
   ],
   "source": [
    "# Sorting the array based on the first column\n",
    "sorted_array = concatenated_array[concatenated_array[:, 1].argsort()]\n",
    "\n",
    "# Extracting sorted values for plotting\n",
    "sorted_values = sorted_array[:, 1]\n",
    "\n",
    "# Creating a line plot\n",
    "plt.plot(sorted_values1, marker='o', color='green', label='Line')\n",
    "plt.plot(sorted_values, marker='o', color='red', label='Line')\n",
    "# Adding labels and title\n",
    "plt.xlabel('Index (Sorted by First Column)')\n",
    "plt.ylabel('Values (Second Column)')\n",
    "plt.title('Line Plot of Sorted Values')\n",
    "\n",
    "# Adding a legend\n",
    "plt.legend()\n",
    "\n",
    "# Display the plot\n",
    "plt.show()"
   ]
  },
  {
   "cell_type": "code",
   "execution_count": null,
   "id": "3893c435-b91b-4e40-98b2-cd8734b2aae7",
   "metadata": {},
   "outputs": [],
   "source": []
  }
 ],
 "metadata": {
  "kernelspec": {
   "display_name": "Python 3",
   "language": "python",
   "name": "python3"
  },
  "language_info": {
   "codemirror_mode": {
    "name": "ipython",
    "version": 3
   },
   "file_extension": ".py",
   "mimetype": "text/x-python",
   "name": "python",
   "nbconvert_exporter": "python",
   "pygments_lexer": "ipython3",
   "version": "3.10.8"
  }
 },
 "nbformat": 4,
 "nbformat_minor": 5
}
