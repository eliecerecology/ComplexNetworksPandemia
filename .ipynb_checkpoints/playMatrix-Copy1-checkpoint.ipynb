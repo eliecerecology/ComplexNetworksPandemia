{
 "cells": [
  {
   "cell_type": "code",
   "execution_count": 111,
   "id": "cef06653-790c-4d8e-b346-3e7c63d1412f",
   "metadata": {
    "tags": []
   },
   "outputs": [
    {
     "data": {
      "image/png": "[encoded data removed]",
      "text/plain": [
       "<Figure size 640x480 with 1 Axes>"
      ]
     },
     "metadata": {},
     "output_type": "display_data"
    }
   ],
   "source": [
    "import networkx as nx\n",
    "import matplotlib.pyplot as plt\n",
    "import numpy as np\n",
    "import random\n",
    "\n",
    "# Create a graph with 10 nodes\n",
    "G = nx.Graph()\n",
    "\n",
    "# Add nodes to the graph\n",
    "nodes = 4\n",
    "\n",
    "G.add_nodes_from(range(1, nodes))\n",
    "G.add_edge(1, 2, weight=2)\n",
    "G.add_edge(1, 3, weight=1)\n",
    "G.add_edge(3, 2, weight=2)\n",
    "G.add_edge(2, 4, weight=3)\n",
    "\n",
    "# Plot the graph with weights\n",
    "pos = nx.spring_layout(G)\n",
    "nx.draw(G, pos, with_labels=True, font_weight='bold', node_size=700, node_color='skyblue', font_size=8)\n",
    "\n",
    "# Add edge labels with weights\n",
    "labels = nx.get_edge_attributes(G, 'weight')\n",
    "nx.draw_networkx_edge_labels(G, pos, edge_labels=labels)\n",
    "\n",
    "plt.show()"
   ]
  },
  {
   "cell_type": "markdown",
   "id": "7a7ed713-9ebf-45a4-bf54-cb3495df313f",
   "metadata": {},
   "source": [
    "## 1. Weight matrix"
   ]
  },
  {
   "cell_type": "code",
   "execution_count": 112,
   "id": "07face10-be83-487f-9bf7-32b69efa7b2a",
   "metadata": {
    "tags": []
   },
   "outputs": [
    {
     "name": "stdout",
     "output_type": "stream",
     "text": [
      "[[0 2 1 0]\n",
      " [2 0 2 3]\n",
      " [1 2 0 0]\n",
      " [0 3 0 0]]\n"
     ]
    }
   ],
   "source": [
    "weight_array = nx.adjacency_matrix(G, weight='weight').todense()\n",
    "print(weight_array)"
   ]
  },
  {
   "cell_type": "code",
   "execution_count": 113,
   "id": "b561917a-fc3c-4dc0-af1a-b646d5695d7f",
   "metadata": {
    "tags": []
   },
   "outputs": [
    {
     "name": "stdout",
     "output_type": "stream",
     "text": [
      "Shortest distances from node 4: {4: 0, 2: 3, 1: 5, 3: 5}\n"
     ]
    }
   ],
   "source": [
    "start_node = 4\n",
    "shortest_paths = nx.shortest_path_length(G, source=start_node, weight='weight')\n",
    "print(f\"Shortest distances from node {start_node}: {shortest_paths}\")"
   ]
  },
  {
   "cell_type": "code",
   "execution_count": 114,
   "id": "0fc5b2fe-bc38-4000-a6fa-841cdc46b925",
   "metadata": {
    "tags": []
   },
   "outputs": [
    {
     "name": "stdout",
     "output_type": "stream",
     "text": [
      "[[0.   0.05 0.68 0.  ]\n",
      " [0.12 0.   0.19 0.67]\n",
      " [0.92 0.42 0.   0.  ]\n",
      " [0.   0.32 0.   0.  ]]\n"
     ]
    }
   ],
   "source": [
    "np.random.seed(41)\n",
    "nod_numbers = len(G.nodes())\n",
    "\n",
    "probabilities = np.round(np.random.rand(nod_numbers, nod_numbers), decimals=2)\n",
    "prob_array = np.where(weight_array > 0, probabilities, 0)\n",
    "print(prob_array)"
   ]
  },
  {
   "cell_type": "code",
   "execution_count": 115,
   "id": "598e8d3e-9881-4858-b8c5-4807bdee3d1f",
   "metadata": {
    "tags": []
   },
   "outputs": [
    {
     "name": "stdout",
     "output_type": "stream",
     "text": [
      "[[0. 0. 0. 0.]\n",
      " [0. 0. 0. 0.]\n",
      " [0. 0. 0. 0.]\n",
      " [0. 0. 0. 0.]]\n"
     ]
    }
   ],
   "source": [
    "def infection_matrix(net):\n",
    "    \n",
    "    num_nodes = len(net.nodes())\n",
    "    infection_array = np.zeros((num_nodes, num_nodes), dtype=float)\n",
    "                \n",
    "    return infection_array\n",
    "\n",
    "infect_array = infection_matrix(G)\n",
    "print(infect_array)"
   ]
  },
  {
   "cell_type": "code",
   "execution_count": 119,
   "id": "0a6e2945-ead4-47b4-81b5-f2e56f827b4c",
   "metadata": {
    "tags": []
   },
   "outputs": [],
   "source": [
    "def update_time(times_matrix, seed_node):\n",
    "    \n",
    "    values = 0\n",
    "    track = np.array([seed_node - 1])\n",
    "    \n",
    "    # What was the min value of the arrange greater than 0 (it-self)--> faster transmission\n",
    "    indeces = np.where(times_matrix[(seed_node - 1), :] >= 1)\n",
    "    values = times_matrix[(seed_node - 1), indeces]\n",
    "\n",
    "    # Check if any new number is not in the existing array\n",
    "    new_numbers = np.setdiff1d(indeces[0], track)\n",
    "    track = np.concatenate((track, new_numbers))\n",
    "\n",
    "    # Update the infection time\n",
    "    for v, k in zip(values[0], track[1:]):\n",
    "        \n",
    "        update = times_matrix[k, :]\n",
    "        update[update > 0] += v\n",
    "\n",
    "        # Add the update\n",
    "        times_matrix[k, :] = update\n",
    "\n",
    "        # Update indeces and values for the next iteration\n",
    "        indeces = np.where(times_matrix[k, :] >= 1)\n",
    "        values = times_matrix[k, indeces]\n",
    "\n",
    "        # Check if any new number is not in the existing array THE NODE == INDEX\n",
    "        new_numbers = np.setdiff1d(indeces[0], track)\n",
    "        #print(\"new_numbers ROW\", new_numbers)\n",
    "\n",
    "        if new_numbers.size > 0:\n",
    "            v = times_matrix[k, new_numbers]\n",
    "\n",
    "            update = times_matrix[new_numbers, :]\n",
    "            update[update > 0] += v[0]\n",
    "            # Add the update\n",
    "            times_matrix[new_numbers, :] = update\n",
    "\n",
    "            # Concatenate values and times_matrix[k, new_numbers]\n",
    "            track = np.concatenate((track, new_numbers))\n",
    "\n",
    "    return track  \n",
    "\n",
    "def infection(f, track, prob_array, infect_array):\n",
    "    p = f\n",
    "    infection_row = np.where(prob_array[track[0], :] >= p, 1, 0)\n",
    "    infect_array[track[0],:] = infection_row\n",
    "\n",
    "    for i in infection_row[1:]: # 1, 0, 0, 0\n",
    "        if i == 1:\n",
    "            for j in track[1:]: # ..., 1, 1\n",
    "                infect_row = np.where(prob_array[j, :] >= p, 1, 0)\n",
    "                infect_array[j,:] = infect_row\n",
    "\n",
    "                cols = np.where(infect_array[j,:] == 1)\n",
    "                \n",
    "                # Check if any new number is not in the existing array\n",
    "                new_numbers = np.setdiff1d(cols, track)\n",
    "\n",
    "                # Append the new numbers to the existing array\n",
    "                track = np.append(track, new_numbers)\n",
    "        else:\n",
    "            pass\n",
    "\n",
    "    return infect_array     \n",
    "\n",
    "\n",
    "def update_time_prob(times_matrix, infection_matrix, seed_node):\n",
    "    \n",
    "    times_matrix = times_matrix * infection_matrix\n",
    "    \n",
    "    values = 0\n",
    "    track = np.array([seed_node - 1])\n",
    "    #print(\"Initial TRACK:\", track)\n",
    "\n",
    "    # What was the min value of the arrange greater than 0 (it-self)--> faster transmission\n",
    "    indeces = np.where(times_matrix[(seed_node - 1), :] >= 1)\n",
    "    values = times_matrix[(seed_node - 1), indeces]\n",
    "\n",
    "    # Check if any new number is not in the existing array\n",
    "    new_numbers = np.setdiff1d(indeces[0], track)\n",
    "    track = np.concatenate((track, new_numbers))\n",
    "\n",
    "    #print(\"GO INSIDE\")\n",
    "    # Update the infection time\n",
    "    for v, k in zip(values[0], track[1:]):\n",
    "        \n",
    "        update = times_matrix[k, :]\n",
    "        update[update > 0] += v\n",
    "\n",
    "        # Add the update\n",
    "        times_matrix[k, :] = update\n",
    "\n",
    "        # Update indeces and values for the next iteration\n",
    "        indeces = np.where(times_matrix[k, :] >= 1)\n",
    "        values = times_matrix[k, indeces]\n",
    "\n",
    "        # Check if any new number is not in the existing array THE NODE == INDEX\n",
    "        new_numbers = np.setdiff1d(indeces[0], track)\n",
    "        #print(\"new_numbers ROW\", new_numbers)\n",
    "\n",
    "        if new_numbers.size > 0:\n",
    "            print(\"value \", times_matrix[k, new_numbers])  # aca el Value\n",
    "            v = times_matrix[k, new_numbers]\n",
    "\n",
    "            update = times_matrix[new_numbers, :]\n",
    "            update[update > 0] += v[0]\n",
    "            # Add the update\n",
    "            times_matrix[new_numbers, :] = update\n",
    "\n",
    "            # Concatenate values and times_matrix[k, new_numbers]\n",
    "            track = np.concatenate((track, new_numbers))\n",
    "            \n",
    "    accumulated_sums = {}\n",
    "\n",
    "    # Initialize accumulated sum variable\n",
    "    accumulated_sum = 0\n",
    "\n",
    "    # Iterate through the shortest path lengths\n",
    "    for node, distance in shortest_paths.items():\n",
    "        # Add the distance to the accumulated sum\n",
    "        accumulated_sum += distance\n",
    "\n",
    "        # Store the accumulated sum in the dictionary\n",
    "        accumulated_sums[node] = accumulated_sum\n",
    "        \n",
    "        \n",
    "    return times_matrix, track, accumulated_sums    "
   ]
  },
  {
   "cell_type": "code",
   "execution_count": 120,
   "id": "a98269f8-768e-48e9-ac4e-a55cafa79331",
   "metadata": {
    "tags": []
   },
   "outputs": [
    {
     "name": "stdout",
     "output_type": "stream",
     "text": [
      "Original times_matrix:\n",
      "[[0 2 1 0]\n",
      " [2 0 2 3]\n",
      " [1 2 0 0]\n",
      " [0 3 0 0]]\n",
      "<function infection_matrix at 0x7f6ae7b69ab0>\n"
     ]
    }
   ],
   "source": [
    "seed_node = 4\n",
    "times_matrix = nx.adjacency_matrix(G, weight='weight').todense()\n",
    "print(\"Original times_matrix:\")\n",
    "print(times_matrix)\n",
    "print(infection_matrix)"
   ]
  },
  {
   "cell_type": "code",
   "execution_count": 121,
   "id": "39cb4410-f9bf-4411-9865-74cccbee55e2",
   "metadata": {
    "tags": []
   },
   "outputs": [
    {
     "name": "stdout",
     "output_type": "stream",
     "text": [
      "\n",
      "Updated track:\n",
      "[3 1 0 2]\n"
     ]
    }
   ],
   "source": [
    "track_nodes = update_time(times_matrix, seed_node)\n",
    "\n",
    "print(\"\\nUpdated track:\")\n",
    "print(track_nodes)"
   ]
  },
  {
   "cell_type": "code",
   "execution_count": 122,
   "id": "63064798-c0b7-411d-9158-2663b552725b",
   "metadata": {
    "tags": []
   },
   "outputs": [
    {
     "name": "stdout",
     "output_type": "stream",
     "text": [
      "[[0. 0. 1. 0.]\n",
      " [1. 0. 1. 1.]\n",
      " [1. 1. 0. 0.]\n",
      " [0. 1. 0. 0.]]\n"
     ]
    }
   ],
   "source": [
    "f = 0.1\n",
    "infection_array = infection(f, track_nodes, prob_array, infect_array)\n",
    "print(infection_array)"
   ]
  },
  {
   "cell_type": "code",
   "execution_count": 125,
   "id": "05226d0c-9d2b-457a-b50a-6073740b5d63",
   "metadata": {
    "tags": []
   },
   "outputs": [
    {
     "name": "stdout",
     "output_type": "stream",
     "text": [
      "value  [8. 8.]\n"
     ]
    }
   ],
   "source": [
    "times_array, track_array, accumulated_times  = update_time_prob(times_matrix, infection_array, seed_node)"
   ]
  },
  {
   "cell_type": "code",
   "execution_count": 126,
   "id": "ddb04910-ef34-49ff-a412-608f7dc38104",
   "metadata": {
    "tags": []
   },
   "outputs": [
    {
     "data": {
      "text/plain": [
       "array([[ 0.,  0., 14.,  0.],\n",
       "       [ 8.,  0.,  8.,  9.],\n",
       "       [14., 15.,  0.,  0.],\n",
       "       [ 0.,  3.,  0.,  0.]])"
      ]
     },
     "execution_count": 126,
     "metadata": {},
     "output_type": "execute_result"
    }
   ],
   "source": [
    "times_array"
   ]
  },
  {
   "cell_type": "code",
   "execution_count": 127,
   "id": "1fbc4444-065b-4ac3-b1c8-b9f6b01b0dda",
   "metadata": {
    "tags": []
   },
   "outputs": [
    {
     "data": {
      "text/plain": [
       "array([3, 1, 0, 2])"
      ]
     },
     "execution_count": 127,
     "metadata": {},
     "output_type": "execute_result"
    }
   ],
   "source": [
    "track_array"
   ]
  },
  {
   "cell_type": "code",
   "execution_count": 128,
   "id": "224d910e-6faf-4f28-bc62-64c50b7fb7dc",
   "metadata": {
    "tags": []
   },
   "outputs": [
    {
     "data": {
      "text/plain": [
       "{4: 0, 2: 3, 1: 8, 3: 13}"
      ]
     },
     "execution_count": 128,
     "metadata": {},
     "output_type": "execute_result"
    }
   ],
   "source": [
    "accumulated_times"
   ]
  },
  {
   "cell_type": "code",
   "execution_count": 129,
   "id": "06c38205-a3e9-4f42-9944-78c899d0ded1",
   "metadata": {
    "tags": []
   },
   "outputs": [
    {
     "data": {
      "text/plain": [
       "array([3, 1, 0, 2])"
      ]
     },
     "execution_count": 129,
     "metadata": {},
     "output_type": "execute_result"
    }
   ],
   "source": [
    "track_array"
   ]
  },
  {
   "cell_type": "code",
   "execution_count": null,
   "id": "b677a571-65f1-43b4-a2be-147cb997f0ab",
   "metadata": {},
   "outputs": [],
   "source": [
    "# Create a graph with 10 nodes\n",
    "G = nx.Graph()\n",
    "\n",
    "# Add nodes to the graph\n",
    "nodes = 8\n",
    "\n",
    "G.add_nodes_from(range(1, nodes))\n",
    "G.add_edge(2, 4, weight=3)\n",
    "G.add_edge(4, 3, weight=2)\n",
    "G.add_edge(3, 7, weight=6)\n",
    "G.add_edge(7, 1, weight=6)\n",
    "G.add_edge(7, 4, weight=2)\n",
    "G.add_edge(7, 5, weight=4)\n",
    "G.add_edge(1, 6, weight=2)\n",
    "G.add_edge(5, 1, weight=4)\n",
    "G.add_edge(4, 1, weight=3)\n",
    "\n",
    "# Plot the graph with weights\n",
    "pos = nx.spring_layout(G)\n",
    "nx.draw(G, pos, with_labels=True, font_weight='bold', node_size=700, node_color='skyblue', font_size=8)\n",
    "\n",
    "# Add edge labels with weights\n",
    "labels = nx.get_edge_attributes(G, 'weight')\n",
    "nx.draw_networkx_edge_labels(G, pos, edge_labels=labels)\n",
    "\n",
    "plt.show()"
   ]
  }
 ],
 "metadata": {
  "kernelspec": {
   "display_name": "Python 3",
   "language": "python",
   "name": "python3"
  },
  "language_info": {
   "codemirror_mode": {
    "name": "ipython",
    "version": 3
   },
   "file_extension": ".py",
   "mimetype": "text/x-python",
   "name": "python",
   "nbconvert_exporter": "python",
   "pygments_lexer": "ipython3",
   "version": "3.10.8"
  }
 },
 "nbformat": 4,
 "nbformat_minor": 5
}
