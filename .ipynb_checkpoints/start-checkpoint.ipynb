{
 "cells": [
  {
   "cell_type": "code",
   "execution_count": 66,
   "id": "9f3c9543-2dd4-433a-bd9c-0a002e6e97df",
   "metadata": {
    "tags": []
   },
   "outputs": [
    {
     "data": {
      "image/png": "[encoded data removed]",
      "text/plain": [
       "<Figure size 640x480 with 1 Axes>"
      ]
     },
     "metadata": {},
     "output_type": "display_data"
    }
   ],
   "source": [
    "import networkx as nx\n",
    "import matplotlib.pyplot as plt\n",
    "import numpy as np\n",
    "import random\n",
    "\n",
    "# Create a graph with 10 nodes\n",
    "G = nx.Graph()\n",
    "\n",
    "# Add nodes to the graph\n",
    "nodes = 8\n",
    "\n",
    "G.add_nodes_from(range(1, nodes))\n",
    "G.add_edge(2, 4, weight=3)\n",
    "G.add_edge(4, 3, weight=2)\n",
    "G.add_edge(3, 7, weight=6)\n",
    "G.add_edge(7, 1, weight=6)\n",
    "G.add_edge(7, 4, weight=2)\n",
    "G.add_edge(7, 5, weight=4)\n",
    "G.add_edge(1, 6, weight=2)\n",
    "G.add_edge(5, 1, weight=4)\n",
    "G.add_edge(4, 1, weight=3)\n",
    "\n",
    "\n",
    "'''for i in range(1, nodes - 1):\n",
    "    print(\"i\", i)\n",
    "    for j in range(i + 1, nodes):\n",
    "        print(\"j\", j)\n",
    "        # Add an edge with a random weight\n",
    "        if random.choice([True, False]):\n",
    "            weight = random.randint(1, nodes - 1)\n",
    "            G.add_edge(i, j, weight=weight)\n",
    "'''\n",
    "# Plot the graph with weights\n",
    "pos = nx.spring_layout(G)\n",
    "nx.draw(G, pos, with_labels=True, font_weight='bold', node_size=700, node_color='skyblue', font_size=8)\n",
    "\n",
    "# Add edge labels with weights\n",
    "labels = nx.get_edge_attributes(G, 'weight')\n",
    "nx.draw_networkx_edge_labels(G, pos, edge_labels=labels)\n",
    "\n",
    "plt.show()"
   ]
  },
  {
   "cell_type": "markdown",
   "id": "74e22bf6-49e9-4ce0-9eaf-43d7c19a6527",
   "metadata": {
    "tags": []
   },
   "source": [
    "## 1. Weight matrix"
   ]
  },
  {
   "cell_type": "code",
   "execution_count": 67,
   "id": "431b8b2e-d76f-44bb-aa39-89598fe6b590",
   "metadata": {
    "tags": []
   },
   "outputs": [
    {
     "name": "stdout",
     "output_type": "stream",
     "text": [
      "[[0 0 0 3 4 2 6]\n",
      " [0 0 0 3 0 0 0]\n",
      " [0 0 0 2 0 0 6]\n",
      " [3 3 2 0 0 0 2]\n",
      " [4 0 0 0 0 0 4]\n",
      " [2 0 0 0 0 0 0]\n",
      " [6 0 6 2 4 0 0]]\n"
     ]
    }
   ],
   "source": [
    "weight_matrix = nx.adjacency_matrix(G, weight='weight').todense()\n",
    "print(weight_matrix)"
   ]
  },
  {
   "cell_type": "code",
   "execution_count": 68,
   "id": "58840d71-51a2-4347-8e86-0921fd5e68cb",
   "metadata": {
    "tags": []
   },
   "outputs": [
    {
     "name": "stdout",
     "output_type": "stream",
     "text": [
      "Shortest distances from node 4: {4: 0, 3: 2, 7: 2, 2: 3, 1: 3, 6: 5, 5: 6}\n"
     ]
    }
   ],
   "source": [
    "start_node = 4\n",
    "shortest_paths = nx.shortest_path_length(G, source=start_node, weight='weight')\n",
    "print(f\"Shortest distances from node {start_node}: {shortest_paths}\")"
   ]
  },
  {
   "cell_type": "code",
   "execution_count": 69,
   "id": "43ba4330-7bb9-4223-856a-173d6f19ebda",
   "metadata": {
    "tags": []
   },
   "outputs": [
    {
     "name": "stdout",
     "output_type": "stream",
     "text": [
      "1\n",
      "{1: 0, 2: 6, 3: 5, 4: 3, 5: 4, 6: 2, 7: 5}\n",
      "2\n",
      "{1: 6, 2: 0, 3: 5, 4: 3, 5: 9, 6: 8, 7: 5}\n",
      "3\n",
      "{1: 5, 2: 5, 3: 0, 4: 2, 5: 8, 6: 7, 7: 4}\n",
      "4\n",
      "{1: 3, 2: 3, 3: 2, 4: 0, 5: 6, 6: 5, 7: 2}\n",
      "5\n",
      "{1: 4, 2: 9, 3: 8, 4: 6, 5: 0, 6: 6, 7: 4}\n",
      "6\n",
      "{1: 2, 2: 8, 3: 7, 4: 5, 5: 6, 6: 0, 7: 7}\n",
      "7\n",
      "{1: 5, 2: 5, 3: 4, 4: 2, 5: 4, 6: 7, 7: 0}\n"
     ]
    }
   ],
   "source": [
    "for node in list(G.nodes()):\n",
    "    print(node)\n",
    "    #print(nx.shortest_path_length(G, source=node, weight='weight'))\n",
    "    my_dict = nx.shortest_path_length(G, source=node, weight='weight')      \n",
    "    sorted_dict = {key: my_dict[key] for key in sorted(my_dict)}\n",
    "\n",
    "    print(sorted_dict)"
   ]
  },
  {
   "cell_type": "code",
   "execution_count": 70,
   "id": "d5bdc67a-2b39-449c-813f-d3dad81448d6",
   "metadata": {
    "tags": []
   },
   "outputs": [
    {
     "name": "stdout",
     "output_type": "stream",
     "text": [
      "{1: 5, 2: 5, 3: 4, 4: 2, 5: 4, 6: 7, 7: 0}\n"
     ]
    }
   ],
   "source": [
    "sorted_dict = {key: my_dict[key] for key in sorted(my_dict)}\n",
    "print(sorted_dict)"
   ]
  },
  {
   "cell_type": "markdown",
   "id": "9b2bd48c-0040-4c95-8698-607b11075df6",
   "metadata": {},
   "source": [
    "## 2. Adjscent matrix"
   ]
  },
  {
   "cell_type": "code",
   "execution_count": 71,
   "id": "1189d64d-28df-425b-af30-a9d4e5b3687d",
   "metadata": {
    "tags": []
   },
   "outputs": [
    {
     "name": "stdout",
     "output_type": "stream",
     "text": [
      "[[0 0 0 1 1 1 1]\n",
      " [0 0 0 1 0 0 0]\n",
      " [0 0 0 1 0 0 1]\n",
      " [1 1 1 0 0 0 1]\n",
      " [1 0 0 0 0 0 1]\n",
      " [1 0 0 0 0 0 0]\n",
      " [1 0 1 1 1 0 0]]\n"
     ]
    }
   ],
   "source": [
    "adj_array = nx.adjacency_matrix(G, weight=None).toarray()\n",
    "print(adj_array)\n"
   ]
  },
  {
   "cell_type": "markdown",
   "id": "b3569339-6eff-47b1-b732-7f91075a2864",
   "metadata": {},
   "source": [
    "### Function 1: create matrix"
   ]
  },
  {
   "cell_type": "code",
   "execution_count": 72,
   "id": "38ca435b-7a55-4d33-8c71-d5f1b4582c5b",
   "metadata": {
    "tags": []
   },
   "outputs": [],
   "source": [
    "import numpy as np\n",
    "\n",
    "def create_time_matrix(net):\n",
    "    \n",
    "    num_nodes = len(net.nodes())\n",
    "    times_array = np.zeros((num_nodes, num_nodes), dtype=float)\n",
    "\n",
    "    for i, node in enumerate(net.nodes()):\n",
    "        # Calculate shortest paths from the current node\n",
    "        my_dict = nx.shortest_path_length(net, source=node, weight='weight')\n",
    "        sorted_dict = {key: my_dict[key] for key in sorted(my_dict)}\n",
    "\n",
    "        # Fill the corresponding row in the result array\n",
    "        for j, target_node in enumerate(net.nodes()):\n",
    "            \n",
    "            times_array[i, j] = sorted_dict.get(target_node, float('inf'))\n",
    "            \n",
    "    return times_array\n",
    "\n",
    "def infection_matrix(net):\n",
    "    \n",
    "    num_nodes = len(net.nodes())\n",
    "    infection_array = np.zeros((num_nodes, num_nodes), dtype=float)\n",
    "\n",
    "                \n",
    "    return infection_array\n"
   ]
  },
  {
   "cell_type": "markdown",
   "id": "5a1ecc06-31c1-463c-919f-1877459abc18",
   "metadata": {},
   "source": [
    "## 1. Times array"
   ]
  },
  {
   "cell_type": "code",
   "execution_count": 104,
   "id": "8a198cb2-e94e-4855-8241-1832ab41ae65",
   "metadata": {
    "tags": []
   },
   "outputs": [],
   "source": [
    "# Print or use result_array as needed\n",
    "times_array = create_time_matrix(G)\n",
    "\n",
    "#infect arra\n",
    "infect_array = infection_matrix(G)"
   ]
  },
  {
   "cell_type": "markdown",
   "id": "04373fc6-a16f-43f0-ba49-34d28669e0f5",
   "metadata": {},
   "source": [
    "## Function 2: infect the nodes"
   ]
  },
  {
   "cell_type": "code",
   "execution_count": 9,
   "id": "5a86177a-37cd-408a-9c0f-379ba26a89f9",
   "metadata": {
    "tags": []
   },
   "outputs": [],
   "source": [
    "def update_time(net, seed_node):\n",
    "    np.random.seed(42)\n",
    "    nod_numbers = len(G.nodes())\n",
    "    array_prob = np.random.rand(nod_numbers, nod_numbers)\n",
    "\n",
    "    values = 0\n",
    "    for _ in enumerate(G.nodes()):\n",
    "        print(\"values\", values)\n",
    "\n",
    "        try:\n",
    "            # What was the min value of the arrange greater than 0 (it-self)--> faster transmittion\n",
    "            min_value = np.min(times_array[(seed_node - 1), times_array[(seed_node - 1), :] > values])\n",
    "            values = min_value\n",
    "\n",
    "            # time to get to the shotest Nodses\n",
    "            print(\"min time: \", min_value)\n",
    "            print(\"pass 1\")\n",
    "\n",
    "            # Index\n",
    "            # find the array of indeces in the array with minimum values Nodes\n",
    "            Nodes = np.where(times_array[(seed_node - 1), :] == min_value)[0]\n",
    "            print(\"pass 2\")\n",
    "            # Print the result\n",
    "            print(f\"The minimum value is {min_value} at column index Node are {Nodes}\")\n",
    "\n",
    "            ##########################\n",
    "            #Update the infection time\n",
    "            ##########################\n",
    "            p = 1\n",
    "\n",
    "            iteration = 0\n",
    "            print(\"times array 1\", times_array)\n",
    "            if p == 1:\n",
    "                #infect: maybe change later\n",
    "                infect_array[seed_node - 1, Nodes] = 1\n",
    "                print(\"infection:\")\n",
    "                print(infect_array)\n",
    "\n",
    "                #update time of those neighbor Nodes:\n",
    "                # excluding original (self)\n",
    "                #now since we have Nodes:\n",
    "                #    1. pick the line in times array\n",
    "                #.   2.update the time addind the value\n",
    "                update = times_array[Nodes, :] \n",
    "                update[update > 0] += min_value\n",
    "\n",
    "\n",
    "                #add\n",
    "                times_array[Nodes, :] = update\n",
    "\n",
    "            iteration += 1\n",
    "\n",
    "            print(\"times array 2\", times_array)\n",
    "\n",
    "        except:\n",
    "            break\n",
    "            \n",
    "    return times_array\n",
    "    "
   ]
  },
  {
   "cell_type": "code",
   "execution_count": 105,
   "id": "c5430957-1232-43b4-b6fa-47fa508bc563",
   "metadata": {
    "tags": []
   },
   "outputs": [],
   "source": [
    "times_array = create_time_matrix(G)\n",
    "infect_array = infection_matrix(G)"
   ]
  },
  {
   "cell_type": "code",
   "execution_count": 106,
   "id": "15cdb713-b065-46df-b98e-d40a9377bfd6",
   "metadata": {
    "tags": []
   },
   "outputs": [
    {
     "data": {
      "text/plain": [
       "array([[0, 0, 0, 1, 1, 1, 1],\n",
       "       [0, 0, 0, 1, 0, 0, 0],\n",
       "       [0, 0, 0, 1, 0, 0, 1],\n",
       "       [1, 1, 1, 0, 0, 0, 1],\n",
       "       [1, 0, 0, 0, 0, 0, 1],\n",
       "       [1, 0, 0, 0, 0, 0, 0],\n",
       "       [1, 0, 1, 1, 1, 0, 0]])"
      ]
     },
     "execution_count": 106,
     "metadata": {},
     "output_type": "execute_result"
    }
   ],
   "source": [
    "adj_array"
   ]
  },
  {
   "cell_type": "markdown",
   "id": "2b78d3d1-1590-49f7-a27a-4f5030440bb4",
   "metadata": {},
   "source": [
    "## 3. create prob array"
   ]
  },
  {
   "cell_type": "code",
   "execution_count": 107,
   "id": "3ee5ecc8-d910-4d35-94ad-2b312df6e290",
   "metadata": {
    "tags": []
   },
   "outputs": [],
   "source": [
    "np.random.seed(42)\n",
    "nod_numbers = len(G.nodes())\n",
    "\n",
    "probabilities = np.round(np.random.rand(nod_numbers, nod_numbers), decimals=2)\n",
    "prob_array = np.where(adj_array == 1, probabilities, 0)"
   ]
  },
  {
   "cell_type": "code",
   "execution_count": 108,
   "id": "a5ca7fb6-1459-47ff-be39-e4805a2f9949",
   "metadata": {
    "tags": []
   },
   "outputs": [
    {
     "data": {
      "text/plain": [
       "array([[0.  , 0.  , 0.  , 0.6 , 0.16, 0.16, 0.06],\n",
       "       [0.  , 0.  , 0.  , 0.02, 0.  , 0.  , 0.  ],\n",
       "       [0.  , 0.  , 0.  , 0.52, 0.  , 0.  , 0.61],\n",
       "       [0.14, 0.29, 0.37, 0.  , 0.  , 0.  , 0.51],\n",
       "       [0.59, 0.  , 0.  , 0.  , 0.  , 0.  , 0.97],\n",
       "       [0.81, 0.  , 0.  , 0.  , 0.  , 0.  , 0.  ],\n",
       "       [0.03, 0.  , 0.26, 0.66, 0.31, 0.  , 0.  ]])"
      ]
     },
     "execution_count": 108,
     "metadata": {},
     "output_type": "execute_result"
    }
   ],
   "source": [
    "prob_array"
   ]
  },
  {
   "cell_type": "markdown",
   "id": "177891b6-9c26-48b0-856f-9a9eb6feca46",
   "metadata": {},
   "source": [
    "## 4. Create the stack"
   ]
  },
  {
   "cell_type": "code",
   "execution_count": 109,
   "id": "075299fa-a1b5-4020-ac85-b735d890ddb2",
   "metadata": {
    "tags": []
   },
   "outputs": [],
   "source": [
    "# Vertically stack the arrays\n",
    "times_array = create_time_matrix(G)\n",
    "stack = np.dstack((adj_array, \n",
    "                   times_array,\n",
    "                   prob_array, \n",
    "                   infect_array))"
   ]
  },
  {
   "cell_type": "code",
   "execution_count": 110,
   "id": "b2a001f2-19be-4306-ab3e-b2f0e7de2e72",
   "metadata": {
    "tags": []
   },
   "outputs": [
    {
     "data": {
      "text/plain": [
       "array([[0., 6., 5., 3., 4., 2., 5.],\n",
       "       [6., 0., 5., 3., 9., 8., 5.],\n",
       "       [5., 5., 0., 2., 8., 7., 4.],\n",
       "       [3., 3., 2., 0., 6., 5., 2.],\n",
       "       [4., 9., 8., 6., 0., 6., 4.],\n",
       "       [2., 8., 7., 5., 6., 0., 7.],\n",
       "       [5., 5., 4., 2., 4., 7., 0.]])"
      ]
     },
     "execution_count": 110,
     "metadata": {},
     "output_type": "execute_result"
    }
   ],
   "source": [
    "stack[:,:,1]"
   ]
  },
  {
   "cell_type": "code",
   "execution_count": 111,
   "id": "c2c0840e-b788-4d01-8a15-fc5756359b1d",
   "metadata": {
    "tags": []
   },
   "outputs": [
    {
     "name": "stdout",
     "output_type": "stream",
     "text": [
      "iter 0\n",
      "pass 1\n",
      "min time:  2.0\n",
      "The minimum value is 2.0 at column index Node are [2 6]\n",
      "track [3 2 6]\n",
      "iter 0\n",
      "pass 1\n",
      "min time:  3.0\n",
      "The minimum value is 3.0 at column index Node are [0 1]\n",
      "track [3 2 6 0 1]\n",
      "iter 0\n",
      "pass 1\n",
      "min time:  5.0\n",
      "The minimum value is 5.0 at column index Node are [5]\n",
      "track [3 2 6 0 1 5]\n",
      "iter 0\n",
      "pass 1\n",
      "min time:  6.0\n",
      "The minimum value is 6.0 at column index Node are [4]\n",
      "track [3 2 6 0 1 5 4]\n",
      "iter 0\n",
      "pass 1\n",
      "INITIAT\n",
      "update [3. 3. 2. 0. 6. 5. 2.]\n",
      "update2 [ 9.  9.  8.  0. 12. 11.  8.]\n"
     ]
    }
   ],
   "source": [
    "# Get the array\n",
    "seed_node = 4\n",
    "seed_node = seed_node - 1\n",
    "iteration = 0\n",
    "values = 0\n",
    "\n",
    "#the list to keep track the nodes\n",
    "track = np.array([seed_node])\n",
    "\n",
    "for _ in enumerate(G.nodes()):\n",
    "    print(\"iter\", iteration)\n",
    "    try:\n",
    "        print(\"pass 1\")\n",
    "        # check the times array\n",
    "        # What was the min value of the arrange greater than 0 (it-self)--> faster transmittion\n",
    "        min_value = np.min(stack[(seed_node), stack[(seed_node), :, 1] > values, 1])\n",
    "        #update\n",
    "        values = min_value\n",
    "        \n",
    "        # time to get to the shotest Nodes\n",
    "        print(\"min time: \", min_value)\n",
    "        \n",
    "        # Indeces of those minimum values\n",
    "        # find the array of indeces in the array with minimum values Nodes. each time\n",
    "        #Nodes = np.where(times_array[(seed_node - 1), :] == min_value)[0]\n",
    "        Nodes = np.where(stack[(seed_node), :, 1] == min_value)[0]\n",
    "\n",
    "        print(f\"The minimum value is {min_value} at column index Node are {Nodes}\")\n",
    "        \n",
    "        #appending\n",
    "        track = np.append(track, [Nodes])\n",
    "        print(\"track\", track)\n",
    "        \n",
    "        ##########################\n",
    "        #Update the infection time\n",
    "        ##########################\n",
    "        #check the probabilistic array\n",
    "        #stack[seed_node - 1, Nodes, 2] >= 0.5\n",
    "        #using prob array [:,:, 2]->\n",
    "        '''\n",
    "        p = 0.5\n",
    "        #if iteration == 0:\n",
    "        print(\"INITIAT\")\n",
    "        for nod in track:\n",
    "\n",
    "            #print(\"node: \", nod + 1)\n",
    "            #print(adj_array)\n",
    "            #print(\"array_adj \", stack[nod, :, 0])\n",
    "            #print(\"array_prob \", stack[nod, :, 2])\n",
    "            #print(\"array_ \", stack[nod, :, 2] >= p)\n",
    "            #print(np.where(stack[nod, :, 2] >= p, 1, 0))\n",
    "\n",
    "            #infection going on!\n",
    "            infection_row = np.where(stack[nod, :, 2] >= p, 1, 0)\n",
    "            stack[nod, :, 3] = infection_row\n",
    "            #print(\"infection row \", infection_row)\n",
    "            \n",
    "            #update time of those neighbor Nodes:\n",
    "            # excluding original (self)\n",
    "            #now since we have Nodes:\n",
    "            #    1. pick the line in times array\n",
    "            #.   2.update the time addind the value\n",
    "            \n",
    "            update = stack[nod, :, 1] \n",
    "            print(\"update\", update)\n",
    "            \n",
    "            update[update > 0] += int(min_value)\n",
    "            print(\"update2\", update)\n",
    "            \n",
    "            break\n",
    "            #add\n",
    "            #stack[Nodes, :, 1] = update\n",
    "\n",
    "        ####################################################################################\n",
    "          \n",
    "        \n",
    "        else:\n",
    "            print(\"Second round of nodes: \", Nodes)\n",
    "            for nod in Nodes:\n",
    "                print(\"node: \", nod +1)\n",
    "                \n",
    "                boolean_array = stack[nod, :, 2] >= p\n",
    "                result_array = boolean_array.astype(int)\n",
    "\n",
    "                #infect!\n",
    "                stack[nod, :, 3] = result_array\n",
    "\n",
    "        print(\"pass 4§------------------------\")\n",
    "\n",
    "\n",
    "        #update time of those neighbor Nodes:\n",
    "        # excluding original (self)\n",
    "        #now since we have Nodes:\n",
    "        #    1. pick the line in times array\n",
    "        #.   2.update the time addind the value\n",
    "        update = stack[Nodes, :, 1] \n",
    "        update[update > 0] += min_value\n",
    "\n",
    "        #add\n",
    "        stack[Nodes, :, 1] = update\n",
    "\n",
    "              \n",
    "        #iteration += 1\n",
    "        '''\n",
    "    except:\n",
    "        break\n",
    "\n",
    "        \n",
    "p = 0.5\n",
    "#if iteration == 0:\n",
    "print(\"INITIAT\")\n",
    "for nod in track:\n",
    "\n",
    "    #print(\"node: \", nod + 1)\n",
    "    #print(adj_array)\n",
    "    #print(\"array_adj \", stack[nod, :, 0])\n",
    "    #print(\"array_prob \", stack[nod, :, 2])\n",
    "    #print(\"array_ \", stack[nod, :, 2] >= p)\n",
    "    #print(np.where(stack[nod, :, 2] >= p, 1, 0))\n",
    "\n",
    "    #infection going on!\n",
    "    infection_row = np.where(stack[nod, :, 2] >= p, 1, 0)\n",
    "    stack[nod, :, 3] = infection_row\n",
    "    #print(\"infection row \", infection_row)\n",
    "\n",
    "    #update time of those neighbor Nodes:\n",
    "    # excluding original (self)\n",
    "    #now since we have Nodes:\n",
    "    #    1. pick the line in times array\n",
    "    #.   2.update the time addind the value\n",
    "\n",
    "    update = stack[nod, :, 1] \n",
    "    print(\"update\", update)\n",
    "\n",
    "    update[update > 0] += int(min_value)\n",
    "    print(\"update2\", update)\n",
    "\n",
    "    break\n",
    "    #add\n",
    "    #stack[Nodes, :, 1] = update\n"
   ]
  },
  {
   "cell_type": "code",
   "execution_count": 81,
   "id": "7d2bd8db-6921-44f2-820e-395c913cff6b",
   "metadata": {
    "tags": []
   },
   "outputs": [
    {
     "data": {
      "text/plain": [
       "array([[0., 0., 0., 0., 0., 0., 0.],\n",
       "       [0., 0., 0., 0., 0., 0., 0.],\n",
       "       [0., 0., 0., 1., 0., 0., 1.],\n",
       "       [0., 0., 0., 0., 0., 0., 1.],\n",
       "       [0., 0., 0., 0., 0., 0., 0.],\n",
       "       [0., 0., 0., 0., 0., 0., 0.],\n",
       "       [0., 0., 0., 1., 0., 0., 0.]])"
      ]
     },
     "execution_count": 81,
     "metadata": {},
     "output_type": "execute_result"
    }
   ],
   "source": [
    "stack[:,:,3]"
   ]
  },
  {
   "cell_type": "code",
   "execution_count": 82,
   "id": "cf51d6bc-6eef-4fef-9e81-568c78b49f75",
   "metadata": {
    "tags": []
   },
   "outputs": [
    {
     "data": {
      "text/plain": [
       "array([[0.000e+00, 6.000e+00, 5.000e+00, 3.000e+00, 4.000e+00, 2.000e+00,\n",
       "        5.000e+00],\n",
       "       [6.000e+00, 0.000e+00, 5.000e+00, 3.000e+00, 9.000e+00, 8.000e+00,\n",
       "        5.000e+00],\n",
       "       [2.049e+03, 2.049e+03, 2.048e+03, 0.000e+00, 2.052e+03, 2.051e+03,\n",
       "        2.048e+03],\n",
       "       [2.570e+02, 2.570e+02, 2.560e+02, 0.000e+00, 2.600e+02, 2.590e+02,\n",
       "        2.560e+02],\n",
       "       [4.000e+00, 9.000e+00, 8.000e+00, 6.000e+00, 0.000e+00, 6.000e+00,\n",
       "        4.000e+00],\n",
       "       [2.000e+00, 8.000e+00, 7.000e+00, 5.000e+00, 6.000e+00, 0.000e+00,\n",
       "        7.000e+00],\n",
       "       [2.049e+03, 2.049e+03, 2.048e+03, 0.000e+00, 2.052e+03, 2.051e+03,\n",
       "        2.048e+03]])"
      ]
     },
     "execution_count": 82,
     "metadata": {},
     "output_type": "execute_result"
    }
   ],
   "source": [
    "stack[:,:,1]"
   ]
  },
  {
   "cell_type": "code",
   "execution_count": 60,
   "id": "ebdb8443-be96-463c-924e-6d043869411d",
   "metadata": {
    "tags": []
   },
   "outputs": [
    {
     "data": {
      "text/plain": [
       "array([[0.00000e+00, 6.00000e+00, 5.00000e+00, 3.00000e+00, 4.00000e+00,\n",
       "        2.00000e+00, 5.00000e+00],\n",
       "       [6.00000e+00, 0.00000e+00, 5.00000e+00, 3.00000e+00, 9.00000e+00,\n",
       "        8.00000e+00, 5.00000e+00],\n",
       "       [2.62145e+05, 2.62145e+05, 2.62144e+05, 0.00000e+00, 2.62148e+05,\n",
       "        2.62147e+05, 2.62144e+05],\n",
       "       [3.27690e+04, 3.27690e+04, 3.27680e+04, 0.00000e+00, 3.27720e+04,\n",
       "        3.27710e+04, 3.27680e+04],\n",
       "       [4.00000e+00, 9.00000e+00, 8.00000e+00, 6.00000e+00, 0.00000e+00,\n",
       "        6.00000e+00, 4.00000e+00],\n",
       "       [2.00000e+00, 8.00000e+00, 7.00000e+00, 5.00000e+00, 6.00000e+00,\n",
       "        0.00000e+00, 7.00000e+00],\n",
       "       [2.62145e+05, 2.62145e+05, 2.62144e+05, 0.00000e+00, 2.62148e+05,\n",
       "        2.62147e+05, 2.62144e+05]])"
      ]
     },
     "execution_count": 60,
     "metadata": {},
     "output_type": "execute_result"
    }
   ],
   "source": [
    "stack[:,:,1]"
   ]
  },
  {
   "cell_type": "code",
   "execution_count": 53,
   "id": "49dcda0d-fdbf-43df-83d8-83057f39ac8e",
   "metadata": {
    "tags": []
   },
   "outputs": [
    {
     "data": {
      "text/plain": [
       "array([[0., 0., 0., 1., 1., 1., 1.],\n",
       "       [0., 0., 0., 1., 0., 0., 0.],\n",
       "       [0., 0., 0., 1., 0., 0., 1.],\n",
       "       [1., 1., 1., 0., 0., 0., 1.],\n",
       "       [1., 0., 0., 0., 0., 0., 1.],\n",
       "       [1., 0., 0., 0., 0., 0., 0.],\n",
       "       [1., 0., 1., 1., 1., 0., 0.]])"
      ]
     },
     "execution_count": 53,
     "metadata": {},
     "output_type": "execute_result"
    }
   ],
   "source": [
    "stack[:,:,0]"
   ]
  },
  {
   "cell_type": "code",
   "execution_count": 61,
   "id": "56bcdbc3-5f59-4174-927f-ba1ec2cd4c40",
   "metadata": {
    "tags": []
   },
   "outputs": [],
   "source": [
    "update = stack[nod, :, 1] \n",
    "#update[update > 0] += int(min_value)\n",
    "\n",
    "#add\n",
    "#stack[Nodes, :, 1] = update"
   ]
  },
  {
   "cell_type": "code",
   "execution_count": 83,
   "id": "79346491-a13a-4967-8fb8-f6b3cab5c4f8",
   "metadata": {
    "tags": []
   },
   "outputs": [
    {
     "data": {
      "text/plain": [
       "array([2049., 2049., 2048.,    0., 2052., 2051., 2048.])"
      ]
     },
     "execution_count": 83,
     "metadata": {},
     "output_type": "execute_result"
    }
   ],
   "source": [
    "update"
   ]
  },
  {
   "cell_type": "code",
   "execution_count": null,
   "id": "be9b8cfd-da16-44b3-b920-092412d0011c",
   "metadata": {},
   "outputs": [],
   "source": []
  }
 ],
 "metadata": {
  "kernelspec": {
   "display_name": "Python 3",
   "language": "python",
   "name": "python3"
  },
  "language_info": {
   "codemirror_mode": {
    "name": "ipython",
    "version": 3
   },
   "file_extension": ".py",
   "mimetype": "text/x-python",
   "name": "python",
   "nbconvert_exporter": "python",
   "pygments_lexer": "ipython3",
   "version": "3.10.8"
  }
 },
 "nbformat": 4,
 "nbformat_minor": 5
}
